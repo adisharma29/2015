{
  "cells": [
    {
      "cell_type": "markdown",
      "metadata": {
        "id": "view-in-github",
        "colab_type": "text"
      },
      "source": [
        "<a href=\"https://colab.research.google.com/github/adisharma29/2015/blob/master/use.ipynb\" target=\"_parent\"><img src=\"https://colab.research.google.com/assets/colab-badge.svg\" alt=\"Open In Colab\"/></a>"
      ]
    },
    {
      "cell_type": "code",
      "execution_count": 32,
      "metadata": {
        "colab": {
          "base_uri": "https://localhost:8080/",
          "height": 1000
        },
        "id": "UaieHMyYthb9",
        "outputId": "b9d6d996-5a40-4365-ddcb-d530f96ec01e"
      },
      "outputs": [
        {
          "output_type": "stream",
          "name": "stdout",
          "text": [
            "Looking in indexes: https://pypi.org/simple, https://us-python.pkg.dev/colab-wheels/public/simple/\n",
            "Requirement already satisfied: bertopic in /usr/local/lib/python3.7/dist-packages (0.10.0)\n",
            "Requirement already satisfied: hdbscan>=0.8.28 in /usr/local/lib/python3.7/dist-packages (from bertopic) (0.8.28)\n",
            "Requirement already satisfied: plotly>=4.7.0 in /usr/local/lib/python3.7/dist-packages (from bertopic) (5.5.0)\n",
            "Requirement already satisfied: pandas>=1.1.5 in /usr/local/lib/python3.7/dist-packages (from bertopic) (1.3.5)\n",
            "Requirement already satisfied: sentence-transformers>=0.4.1 in /usr/local/lib/python3.7/dist-packages (from bertopic) (2.2.0)\n",
            "Requirement already satisfied: numpy>=1.20.0 in /usr/local/lib/python3.7/dist-packages (from bertopic) (1.21.6)\n",
            "Requirement already satisfied: pyyaml<6.0 in /usr/local/lib/python3.7/dist-packages (from bertopic) (5.4.1)\n",
            "Requirement already satisfied: tqdm>=4.41.1 in /usr/local/lib/python3.7/dist-packages (from bertopic) (4.64.0)\n",
            "Requirement already satisfied: scikit-learn>=0.22.2.post1 in /usr/local/lib/python3.7/dist-packages (from bertopic) (1.0.2)\n",
            "Requirement already satisfied: umap-learn>=0.5.0 in /usr/local/lib/python3.7/dist-packages (from bertopic) (0.5.3)\n",
            "Requirement already satisfied: cython>=0.27 in /usr/local/lib/python3.7/dist-packages (from hdbscan>=0.8.28->bertopic) (0.29.30)\n",
            "Requirement already satisfied: scipy>=1.0 in /usr/local/lib/python3.7/dist-packages (from hdbscan>=0.8.28->bertopic) (1.7.3)\n",
            "Requirement already satisfied: joblib>=1.0 in /usr/local/lib/python3.7/dist-packages (from hdbscan>=0.8.28->bertopic) (1.1.0)\n",
            "Requirement already satisfied: python-dateutil>=2.7.3 in /usr/local/lib/python3.7/dist-packages (from pandas>=1.1.5->bertopic) (2.8.2)\n",
            "Requirement already satisfied: pytz>=2017.3 in /usr/local/lib/python3.7/dist-packages (from pandas>=1.1.5->bertopic) (2022.1)\n",
            "Requirement already satisfied: six in /usr/local/lib/python3.7/dist-packages (from plotly>=4.7.0->bertopic) (1.15.0)\n",
            "Requirement already satisfied: tenacity>=6.2.0 in /usr/local/lib/python3.7/dist-packages (from plotly>=4.7.0->bertopic) (8.0.1)\n",
            "Requirement already satisfied: threadpoolctl>=2.0.0 in /usr/local/lib/python3.7/dist-packages (from scikit-learn>=0.22.2.post1->bertopic) (3.1.0)\n",
            "Requirement already satisfied: torch>=1.6.0 in /usr/local/lib/python3.7/dist-packages (from sentence-transformers>=0.4.1->bertopic) (1.11.0+cu113)\n",
            "Requirement already satisfied: torchvision in /usr/local/lib/python3.7/dist-packages (from sentence-transformers>=0.4.1->bertopic) (0.12.0+cu113)\n",
            "Requirement already satisfied: nltk in /usr/local/lib/python3.7/dist-packages (from sentence-transformers>=0.4.1->bertopic) (3.7)\n",
            "Requirement already satisfied: sentencepiece in /usr/local/lib/python3.7/dist-packages (from sentence-transformers>=0.4.1->bertopic) (0.1.96)\n",
            "Requirement already satisfied: huggingface-hub in /usr/local/lib/python3.7/dist-packages (from sentence-transformers>=0.4.1->bertopic) (0.7.0)\n",
            "Requirement already satisfied: transformers<5.0.0,>=4.6.0 in /usr/local/lib/python3.7/dist-packages (from sentence-transformers>=0.4.1->bertopic) (4.19.2)\n",
            "Requirement already satisfied: typing-extensions in /usr/local/lib/python3.7/dist-packages (from torch>=1.6.0->sentence-transformers>=0.4.1->bertopic) (3.10.0.2)\n",
            "Requirement already satisfied: importlib-metadata in /usr/local/lib/python3.7/dist-packages (from transformers<5.0.0,>=4.6.0->sentence-transformers>=0.4.1->bertopic) (4.11.4)\n",
            "Requirement already satisfied: requests in /usr/local/lib/python3.7/dist-packages (from transformers<5.0.0,>=4.6.0->sentence-transformers>=0.4.1->bertopic) (2.23.0)\n",
            "Requirement already satisfied: filelock in /usr/local/lib/python3.7/dist-packages (from transformers<5.0.0,>=4.6.0->sentence-transformers>=0.4.1->bertopic) (3.7.0)\n",
            "Requirement already satisfied: packaging>=20.0 in /usr/local/lib/python3.7/dist-packages (from transformers<5.0.0,>=4.6.0->sentence-transformers>=0.4.1->bertopic) (21.3)\n",
            "Requirement already satisfied: regex!=2019.12.17 in /usr/local/lib/python3.7/dist-packages (from transformers<5.0.0,>=4.6.0->sentence-transformers>=0.4.1->bertopic) (2022.6.2)\n",
            "Requirement already satisfied: tokenizers!=0.11.3,<0.13,>=0.11.1 in /usr/local/lib/python3.7/dist-packages (from transformers<5.0.0,>=4.6.0->sentence-transformers>=0.4.1->bertopic) (0.12.1)\n",
            "Requirement already satisfied: pyparsing!=3.0.5,>=2.0.2 in /usr/local/lib/python3.7/dist-packages (from packaging>=20.0->transformers<5.0.0,>=4.6.0->sentence-transformers>=0.4.1->bertopic) (3.0.9)\n",
            "Requirement already satisfied: numba>=0.49 in /usr/local/lib/python3.7/dist-packages (from umap-learn>=0.5.0->bertopic) (0.51.2)\n",
            "Requirement already satisfied: pynndescent>=0.5 in /usr/local/lib/python3.7/dist-packages (from umap-learn>=0.5.0->bertopic) (0.5.7)\n",
            "Requirement already satisfied: setuptools in /usr/local/lib/python3.7/dist-packages (from numba>=0.49->umap-learn>=0.5.0->bertopic) (57.4.0)\n",
            "Requirement already satisfied: llvmlite<0.35,>=0.34.0.dev0 in /usr/local/lib/python3.7/dist-packages (from numba>=0.49->umap-learn>=0.5.0->bertopic) (0.34.0)\n",
            "Requirement already satisfied: zipp>=0.5 in /usr/local/lib/python3.7/dist-packages (from importlib-metadata->transformers<5.0.0,>=4.6.0->sentence-transformers>=0.4.1->bertopic) (3.8.0)\n",
            "Requirement already satisfied: click in /usr/local/lib/python3.7/dist-packages (from nltk->sentence-transformers>=0.4.1->bertopic) (7.1.2)\n",
            "Requirement already satisfied: urllib3!=1.25.0,!=1.25.1,<1.26,>=1.21.1 in /usr/local/lib/python3.7/dist-packages (from requests->transformers<5.0.0,>=4.6.0->sentence-transformers>=0.4.1->bertopic) (1.24.3)\n",
            "Requirement already satisfied: certifi>=2017.4.17 in /usr/local/lib/python3.7/dist-packages (from requests->transformers<5.0.0,>=4.6.0->sentence-transformers>=0.4.1->bertopic) (2022.5.18.1)\n",
            "Requirement already satisfied: chardet<4,>=3.0.2 in /usr/local/lib/python3.7/dist-packages (from requests->transformers<5.0.0,>=4.6.0->sentence-transformers>=0.4.1->bertopic) (3.0.4)\n",
            "Requirement already satisfied: idna<3,>=2.5 in /usr/local/lib/python3.7/dist-packages (from requests->transformers<5.0.0,>=4.6.0->sentence-transformers>=0.4.1->bertopic) (2.10)\n",
            "Requirement already satisfied: pillow!=8.3.*,>=5.3.0 in /usr/local/lib/python3.7/dist-packages (from torchvision->sentence-transformers>=0.4.1->bertopic) (7.1.2)\n",
            "Looking in indexes: https://pypi.org/simple, https://us-python.pkg.dev/colab-wheels/public/simple/\n",
            "Requirement already satisfied: keybert[use] in /usr/local/lib/python3.7/dist-packages (0.5.1)\n",
            "\u001b[33mWARNING: keybert 0.5.1 does not provide the extra 'use'\u001b[0m\n",
            "Requirement already satisfied: scikit-learn>=0.22.2 in /usr/local/lib/python3.7/dist-packages (from keybert[use]) (1.0.2)\n",
            "Requirement already satisfied: sentence-transformers>=0.3.8 in /usr/local/lib/python3.7/dist-packages (from keybert[use]) (2.2.0)\n",
            "Requirement already satisfied: rich>=10.4.0 in /usr/local/lib/python3.7/dist-packages (from keybert[use]) (12.4.4)\n",
            "Requirement already satisfied: numpy>=1.18.5 in /usr/local/lib/python3.7/dist-packages (from keybert[use]) (1.21.6)\n",
            "Requirement already satisfied: pygments<3.0.0,>=2.6.0 in /usr/local/lib/python3.7/dist-packages (from rich>=10.4.0->keybert[use]) (2.6.1)\n",
            "Collecting typing-extensions<5.0,>=4.0.0\n",
            "  Using cached typing_extensions-4.2.0-py3-none-any.whl (24 kB)\n",
            "Requirement already satisfied: commonmark<0.10.0,>=0.9.0 in /usr/local/lib/python3.7/dist-packages (from rich>=10.4.0->keybert[use]) (0.9.1)\n",
            "Requirement already satisfied: threadpoolctl>=2.0.0 in /usr/local/lib/python3.7/dist-packages (from scikit-learn>=0.22.2->keybert[use]) (3.1.0)\n",
            "Requirement already satisfied: scipy>=1.1.0 in /usr/local/lib/python3.7/dist-packages (from scikit-learn>=0.22.2->keybert[use]) (1.7.3)\n",
            "Requirement already satisfied: joblib>=0.11 in /usr/local/lib/python3.7/dist-packages (from scikit-learn>=0.22.2->keybert[use]) (1.1.0)\n",
            "Requirement already satisfied: torch>=1.6.0 in /usr/local/lib/python3.7/dist-packages (from sentence-transformers>=0.3.8->keybert[use]) (1.11.0+cu113)\n",
            "Requirement already satisfied: tqdm in /usr/local/lib/python3.7/dist-packages (from sentence-transformers>=0.3.8->keybert[use]) (4.64.0)\n",
            "Requirement already satisfied: transformers<5.0.0,>=4.6.0 in /usr/local/lib/python3.7/dist-packages (from sentence-transformers>=0.3.8->keybert[use]) (4.19.2)\n",
            "Requirement already satisfied: huggingface-hub in /usr/local/lib/python3.7/dist-packages (from sentence-transformers>=0.3.8->keybert[use]) (0.7.0)\n",
            "Requirement already satisfied: nltk in /usr/local/lib/python3.7/dist-packages (from sentence-transformers>=0.3.8->keybert[use]) (3.7)\n",
            "Requirement already satisfied: torchvision in /usr/local/lib/python3.7/dist-packages (from sentence-transformers>=0.3.8->keybert[use]) (0.12.0+cu113)\n",
            "Requirement already satisfied: sentencepiece in /usr/local/lib/python3.7/dist-packages (from sentence-transformers>=0.3.8->keybert[use]) (0.1.96)\n",
            "Requirement already satisfied: tokenizers!=0.11.3,<0.13,>=0.11.1 in /usr/local/lib/python3.7/dist-packages (from transformers<5.0.0,>=4.6.0->sentence-transformers>=0.3.8->keybert[use]) (0.12.1)\n",
            "Requirement already satisfied: importlib-metadata in /usr/local/lib/python3.7/dist-packages (from transformers<5.0.0,>=4.6.0->sentence-transformers>=0.3.8->keybert[use]) (4.11.4)\n",
            "Requirement already satisfied: regex!=2019.12.17 in /usr/local/lib/python3.7/dist-packages (from transformers<5.0.0,>=4.6.0->sentence-transformers>=0.3.8->keybert[use]) (2022.6.2)\n",
            "Requirement already satisfied: requests in /usr/local/lib/python3.7/dist-packages (from transformers<5.0.0,>=4.6.0->sentence-transformers>=0.3.8->keybert[use]) (2.23.0)\n",
            "Requirement already satisfied: filelock in /usr/local/lib/python3.7/dist-packages (from transformers<5.0.0,>=4.6.0->sentence-transformers>=0.3.8->keybert[use]) (3.7.0)\n",
            "Requirement already satisfied: pyyaml>=5.1 in /usr/local/lib/python3.7/dist-packages (from transformers<5.0.0,>=4.6.0->sentence-transformers>=0.3.8->keybert[use]) (5.4.1)\n",
            "Requirement already satisfied: packaging>=20.0 in /usr/local/lib/python3.7/dist-packages (from transformers<5.0.0,>=4.6.0->sentence-transformers>=0.3.8->keybert[use]) (21.3)\n",
            "Requirement already satisfied: pyparsing!=3.0.5,>=2.0.2 in /usr/local/lib/python3.7/dist-packages (from packaging>=20.0->transformers<5.0.0,>=4.6.0->sentence-transformers>=0.3.8->keybert[use]) (3.0.9)\n",
            "Requirement already satisfied: zipp>=0.5 in /usr/local/lib/python3.7/dist-packages (from importlib-metadata->transformers<5.0.0,>=4.6.0->sentence-transformers>=0.3.8->keybert[use]) (3.8.0)\n",
            "Requirement already satisfied: click in /usr/local/lib/python3.7/dist-packages (from nltk->sentence-transformers>=0.3.8->keybert[use]) (7.1.2)\n",
            "Requirement already satisfied: chardet<4,>=3.0.2 in /usr/local/lib/python3.7/dist-packages (from requests->transformers<5.0.0,>=4.6.0->sentence-transformers>=0.3.8->keybert[use]) (3.0.4)\n",
            "Requirement already satisfied: certifi>=2017.4.17 in /usr/local/lib/python3.7/dist-packages (from requests->transformers<5.0.0,>=4.6.0->sentence-transformers>=0.3.8->keybert[use]) (2022.5.18.1)\n",
            "Requirement already satisfied: idna<3,>=2.5 in /usr/local/lib/python3.7/dist-packages (from requests->transformers<5.0.0,>=4.6.0->sentence-transformers>=0.3.8->keybert[use]) (2.10)\n",
            "Requirement already satisfied: urllib3!=1.25.0,!=1.25.1,<1.26,>=1.21.1 in /usr/local/lib/python3.7/dist-packages (from requests->transformers<5.0.0,>=4.6.0->sentence-transformers>=0.3.8->keybert[use]) (1.24.3)\n",
            "Requirement already satisfied: pillow!=8.3.*,>=5.3.0 in /usr/local/lib/python3.7/dist-packages (from torchvision->sentence-transformers>=0.3.8->keybert[use]) (7.1.2)\n",
            "Installing collected packages: typing-extensions\n",
            "  Attempting uninstall: typing-extensions\n",
            "    Found existing installation: typing-extensions 3.10.0.2\n",
            "    Uninstalling typing-extensions-3.10.0.2:\n",
            "      Successfully uninstalled typing-extensions-3.10.0.2\n",
            "\u001b[31mERROR: pip's dependency resolver does not currently take into account all the packages that are installed. This behaviour is the source of the following dependency conflicts.\n",
            "thinc 8.0.17 requires typing-extensions<4.2.0,>=3.7.4.1; python_version < \"3.8\", but you have typing-extensions 4.2.0 which is incompatible.\n",
            "spacy 3.3.0 requires typing-extensions<4.0.0.0,>=3.7.4; python_version < \"3.8\", but you have typing-extensions 4.2.0 which is incompatible.\u001b[0m\n",
            "Successfully installed typing-extensions-4.2.0\n",
            "Looking in indexes: https://pypi.org/simple, https://us-python.pkg.dev/colab-wheels/public/simple/\n",
            "Requirement already satisfied: keyphrase-vectorizers in /usr/local/lib/python3.7/dist-packages (0.0.8)\n",
            "Requirement already satisfied: scipy>=1.7.3 in /usr/local/lib/python3.7/dist-packages (from keyphrase-vectorizers) (1.7.3)\n",
            "Requirement already satisfied: psutil>=5.8.0 in /usr/local/lib/python3.7/dist-packages (from keyphrase-vectorizers) (5.9.1)\n",
            "Requirement already satisfied: numpy>=1.18.5 in /usr/local/lib/python3.7/dist-packages (from keyphrase-vectorizers) (1.21.6)\n",
            "Requirement already satisfied: spacy>=3.0.1 in /usr/local/lib/python3.7/dist-packages (from keyphrase-vectorizers) (3.3.0)\n",
            "Requirement already satisfied: scikit-learn>=1.0 in /usr/local/lib/python3.7/dist-packages (from keyphrase-vectorizers) (1.0.2)\n",
            "Requirement already satisfied: nltk>=3.6.1 in /usr/local/lib/python3.7/dist-packages (from keyphrase-vectorizers) (3.7)\n",
            "Requirement already satisfied: tqdm in /usr/local/lib/python3.7/dist-packages (from nltk>=3.6.1->keyphrase-vectorizers) (4.64.0)\n",
            "Requirement already satisfied: regex>=2021.8.3 in /usr/local/lib/python3.7/dist-packages (from nltk>=3.6.1->keyphrase-vectorizers) (2022.6.2)\n",
            "Requirement already satisfied: click in /usr/local/lib/python3.7/dist-packages (from nltk>=3.6.1->keyphrase-vectorizers) (7.1.2)\n",
            "Requirement already satisfied: joblib in /usr/local/lib/python3.7/dist-packages (from nltk>=3.6.1->keyphrase-vectorizers) (1.1.0)\n",
            "Requirement already satisfied: threadpoolctl>=2.0.0 in /usr/local/lib/python3.7/dist-packages (from scikit-learn>=1.0->keyphrase-vectorizers) (3.1.0)\n",
            "Requirement already satisfied: pathy>=0.3.5 in /usr/local/lib/python3.7/dist-packages (from spacy>=3.0.1->keyphrase-vectorizers) (0.6.1)\n",
            "Requirement already satisfied: murmurhash<1.1.0,>=0.28.0 in /usr/local/lib/python3.7/dist-packages (from spacy>=3.0.1->keyphrase-vectorizers) (1.0.7)\n",
            "Requirement already satisfied: requests<3.0.0,>=2.13.0 in /usr/local/lib/python3.7/dist-packages (from spacy>=3.0.1->keyphrase-vectorizers) (2.23.0)\n",
            "Requirement already satisfied: srsly<3.0.0,>=2.4.3 in /usr/local/lib/python3.7/dist-packages (from spacy>=3.0.1->keyphrase-vectorizers) (2.4.3)\n",
            "Requirement already satisfied: typer<0.5.0,>=0.3.0 in /usr/local/lib/python3.7/dist-packages (from spacy>=3.0.1->keyphrase-vectorizers) (0.4.1)\n",
            "Requirement already satisfied: jinja2 in /usr/local/lib/python3.7/dist-packages (from spacy>=3.0.1->keyphrase-vectorizers) (2.11.3)\n",
            "Requirement already satisfied: spacy-loggers<2.0.0,>=1.0.0 in /usr/local/lib/python3.7/dist-packages (from spacy>=3.0.1->keyphrase-vectorizers) (1.0.2)\n",
            "Requirement already satisfied: langcodes<4.0.0,>=3.2.0 in /usr/local/lib/python3.7/dist-packages (from spacy>=3.0.1->keyphrase-vectorizers) (3.3.0)\n",
            "Requirement already satisfied: catalogue<2.1.0,>=2.0.6 in /usr/local/lib/python3.7/dist-packages (from spacy>=3.0.1->keyphrase-vectorizers) (2.0.7)\n",
            "Requirement already satisfied: setuptools in /usr/local/lib/python3.7/dist-packages (from spacy>=3.0.1->keyphrase-vectorizers) (57.4.0)\n",
            "Requirement already satisfied: cymem<2.1.0,>=2.0.2 in /usr/local/lib/python3.7/dist-packages (from spacy>=3.0.1->keyphrase-vectorizers) (2.0.6)\n",
            "Requirement already satisfied: thinc<8.1.0,>=8.0.14 in /usr/local/lib/python3.7/dist-packages (from spacy>=3.0.1->keyphrase-vectorizers) (8.0.17)\n",
            "Requirement already satisfied: packaging>=20.0 in /usr/local/lib/python3.7/dist-packages (from spacy>=3.0.1->keyphrase-vectorizers) (21.3)\n",
            "Requirement already satisfied: preshed<3.1.0,>=3.0.2 in /usr/local/lib/python3.7/dist-packages (from spacy>=3.0.1->keyphrase-vectorizers) (3.0.6)\n",
            "Requirement already satisfied: spacy-legacy<3.1.0,>=3.0.9 in /usr/local/lib/python3.7/dist-packages (from spacy>=3.0.1->keyphrase-vectorizers) (3.0.9)\n",
            "Requirement already satisfied: pydantic!=1.8,!=1.8.1,<1.9.0,>=1.7.4 in /usr/local/lib/python3.7/dist-packages (from spacy>=3.0.1->keyphrase-vectorizers) (1.8.2)\n",
            "Requirement already satisfied: wasabi<1.1.0,>=0.9.1 in /usr/local/lib/python3.7/dist-packages (from spacy>=3.0.1->keyphrase-vectorizers) (0.9.1)\n",
            "Collecting typing-extensions<4.0.0.0,>=3.7.4\n",
            "  Using cached typing_extensions-3.10.0.2-py3-none-any.whl (26 kB)\n",
            "Requirement already satisfied: blis<0.8.0,>=0.4.0 in /usr/local/lib/python3.7/dist-packages (from spacy>=3.0.1->keyphrase-vectorizers) (0.4.1)\n",
            "Requirement already satisfied: zipp>=0.5 in /usr/local/lib/python3.7/dist-packages (from catalogue<2.1.0,>=2.0.6->spacy>=3.0.1->keyphrase-vectorizers) (3.8.0)\n",
            "Requirement already satisfied: pyparsing!=3.0.5,>=2.0.2 in /usr/local/lib/python3.7/dist-packages (from packaging>=20.0->spacy>=3.0.1->keyphrase-vectorizers) (3.0.9)\n",
            "Requirement already satisfied: smart-open<6.0.0,>=5.0.0 in /usr/local/lib/python3.7/dist-packages (from pathy>=0.3.5->spacy>=3.0.1->keyphrase-vectorizers) (5.2.1)\n",
            "Requirement already satisfied: certifi>=2017.4.17 in /usr/local/lib/python3.7/dist-packages (from requests<3.0.0,>=2.13.0->spacy>=3.0.1->keyphrase-vectorizers) (2022.5.18.1)\n",
            "Requirement already satisfied: urllib3!=1.25.0,!=1.25.1,<1.26,>=1.21.1 in /usr/local/lib/python3.7/dist-packages (from requests<3.0.0,>=2.13.0->spacy>=3.0.1->keyphrase-vectorizers) (1.24.3)\n",
            "Requirement already satisfied: chardet<4,>=3.0.2 in /usr/local/lib/python3.7/dist-packages (from requests<3.0.0,>=2.13.0->spacy>=3.0.1->keyphrase-vectorizers) (3.0.4)\n",
            "Requirement already satisfied: idna<3,>=2.5 in /usr/local/lib/python3.7/dist-packages (from requests<3.0.0,>=2.13.0->spacy>=3.0.1->keyphrase-vectorizers) (2.10)\n",
            "Requirement already satisfied: MarkupSafe>=0.23 in /usr/local/lib/python3.7/dist-packages (from jinja2->spacy>=3.0.1->keyphrase-vectorizers) (2.0.1)\n",
            "Installing collected packages: typing-extensions\n",
            "  Attempting uninstall: typing-extensions\n",
            "    Found existing installation: typing-extensions 4.2.0\n",
            "    Uninstalling typing-extensions-4.2.0:\n",
            "      Successfully uninstalled typing-extensions-4.2.0\n",
            "\u001b[31mERROR: pip's dependency resolver does not currently take into account all the packages that are installed. This behaviour is the source of the following dependency conflicts.\n",
            "rich 12.4.4 requires typing-extensions<5.0,>=4.0.0; python_version < \"3.9\", but you have typing-extensions 3.10.0.2 which is incompatible.\u001b[0m\n",
            "Successfully installed typing-extensions-3.10.0.2\n"
          ]
        },
        {
          "output_type": "display_data",
          "data": {
            "application/vnd.colab-display-data+json": {
              "pip_warning": {
                "packages": [
                  "typing_extensions"
                ]
              }
            }
          },
          "metadata": {}
        },
        {
          "output_type": "stream",
          "name": "stdout",
          "text": [
            "module https://tfhub.dev/google/universal-sentence-encoder/4 loaded\n"
          ]
        }
      ],
      "source": [
        "#@title Load the Universal Sentence Encoder's TF Hub module\n",
        "!pip install bertopic\n",
        "!pip install keybert[use]\n",
        "!pip install keyphrase-vectorizers\n",
        "from absl import logging\n",
        "\n",
        "import tensorflow as tf\n",
        "\n",
        "import tensorflow_hub as hub\n",
        "import matplotlib.pyplot as plt\n",
        "import numpy as np\n",
        "import os\n",
        "import pandas as pd\n",
        "import re\n",
        "import seaborn as sns\n",
        "\n",
        "module_url = \"https://tfhub.dev/google/universal-sentence-encoder/4\" #@param [\"https://tfhub.dev/google/universal-sentence-encoder/4\", \"https://tfhub.dev/google/universal-sentence-encoder-large/5\"]\n",
        "model = hub.load(module_url)\n",
        "print (\"module %s loaded\" % module_url)\n",
        "def embed(input):\n",
        "  return model(input)"
      ]
    },
    {
      "cell_type": "code",
      "execution_count": 33,
      "metadata": {
        "id": "4KhMsFnZuosd"
      },
      "outputs": [],
      "source": [
        "df_1000 = pd.read_excel('drive/MyDrive/ta/processed/final/review_details-0-1000.xlsx')\n",
        "df_2000 = pd.read_excel('drive/MyDrive/ta/processed/final/review_details-1000-2000.xlsx')\n",
        "df_3000 = pd.read_excel('drive/MyDrive/ta/processed/final/review_details-2000-3000.xlsx')\n",
        "df_5000 = pd.read_excel('drive/MyDrive/ta/processed/final/review_details-3000-5000.xlsx')\n",
        "df_7000 = pd.read_excel('drive/MyDrive/ta/processed/final/review_details-4865-7000.xlsx')\n",
        "df_9000 = pd.read_excel('drive/MyDrive/ta/processed/final/review_details-7000-9000.xlsx')\n",
        "df_last = pd.read_excel('drive/MyDrive/ta/processed/final/review_details-9000-13431.xlsx')\n",
        "# vertical_stack = pd.concat([survey_sub, survey_sub_last10], axis=0)"
      ]
    },
    {
      "cell_type": "code",
      "execution_count": 34,
      "metadata": {
        "id": "eLNZyGskF4sc"
      },
      "outputs": [],
      "source": [
        "df = pd.concat([df_1000, df_2000, df_3000, df_5000, df_7000, df_9000, df_last ], axis=0)"
      ]
    },
    {
      "cell_type": "code",
      "execution_count": 11,
      "metadata": {
        "colab": {
          "base_uri": "https://localhost:8080/",
          "height": 1000
        },
        "id": "hMSnwN74xClO",
        "outputId": "0ff2bece-0115-4d0b-ffb9-4e5b8947f5f5"
      },
      "outputs": [
        {
          "output_type": "execute_result",
          "data": {
            "text/plain": [
              "                                                                                                         parent_url  \\\n",
              "0  https://tripadvisor.in/Attraction_Review-g297683-d317329-Reviews-Taj_Mahal-Agra_Agra_District_Uttar_Pradesh.html   \n",
              "1  https://tripadvisor.in/Attraction_Review-g297683-d317329-Reviews-Taj_Mahal-Agra_Agra_District_Uttar_Pradesh.html   \n",
              "2  https://tripadvisor.in/Attraction_Review-g297683-d317329-Reviews-Taj_Mahal-Agra_Agra_District_Uttar_Pradesh.html   \n",
              "3  https://tripadvisor.in/Attraction_Review-g297683-d317329-Reviews-Taj_Mahal-Agra_Agra_District_Uttar_Pradesh.html   \n",
              "4  https://tripadvisor.in/Attraction_Review-g297683-d317329-Reviews-Taj_Mahal-Agra_Agra_District_Uttar_Pradesh.html   \n",
              "\n",
              "                                                                                                              review_url  \\\n",
              "0  https://tripadvisor.in/Attraction_Review-g297683-d317329-Reviews-or10-Taj_Mahal-Agra_Agra_District_Uttar_Pradesh.html   \n",
              "1  https://tripadvisor.in/Attraction_Review-g297683-d317329-Reviews-or10-Taj_Mahal-Agra_Agra_District_Uttar_Pradesh.html   \n",
              "2  https://tripadvisor.in/Attraction_Review-g297683-d317329-Reviews-or10-Taj_Mahal-Agra_Agra_District_Uttar_Pradesh.html   \n",
              "3  https://tripadvisor.in/Attraction_Review-g297683-d317329-Reviews-or10-Taj_Mahal-Agra_Agra_District_Uttar_Pradesh.html   \n",
              "4       https://tripadvisor.in/Attraction_Review-g297683-d317329-Reviews-Taj_Mahal-Agra_Agra_District_Uttar_Pradesh.html   \n",
              "\n",
              "                                               meta  \\\n",
              "0         mulleeozSydney, Australia8 contributions0   \n",
              "1  emanuellandellStockholm, Sweden54 contributions0   \n",
              "2         Masher16Mumbai, India2,470 contributions0   \n",
              "3        dr floPort Saint Lucie, FL2 contributions0   \n",
              "4               Curiositytraveller12 contributions0   \n",
              "\n",
              "                                                                       review_title  \\\n",
              "0                                                                Never disappoints!   \n",
              "1                                         Cinematic scenery from morning to evening   \n",
              "2                                                               Simply mesmerising!   \n",
              "3  Amazing adventure, great country, food was great and the people super attentive    \n",
              "4                                                                       Real wonder   \n",
              "\n",
              "  travel_date traveller_type  \\\n",
              "0  2022-03-01            NaN   \n",
              "1  2022-05-01           Solo   \n",
              "2  2022-04-01            NaN   \n",
              "3  2022-04-01         Family   \n",
              "4  2022-05-01        Couples   \n",
              "\n",
              "                                                                                                                                                                                                                                                                                                                                                                                                     review_detail  \\\n",
              "0                                                                                                                                                                                                                                                                        First thing in the morning or at sunset are the most peaceful times to enjoy this magnificent icon of India, a monument to love.Read more   \n",
              "1                                                                                                                                                                                                                                                                  It is a very beautiful scenery with amazing engineering, architecture and hand crafting. Come early and watch it spark in the sunrise.Read more   \n",
              "2  What do I say about the Taj Mahal that has already not been said?! Took me so many years to finally visit it even though I live in India. Was completely blown over by the magnificence and boundless beauty of this spectacular monument and intrigued by the glorious as well as cruel history it holds. It's best to book a ticket online to avoid long queues to purchase one. There will be queues even...   \n",
              "3                                                                                                                                                                                                                                                             Great country, excellent food, people super attentive.  Monument poorly kept but still standing.  Tour where amazing and full of education.Read more   \n",
              "4                                                                                                                                                                                                                                          It is must see monument. You can buy ticket online. It is a big complex with beautiful marble building and garden. It is truly one of the wonder of the world.Read more   \n",
              "\n",
              "     written review_detail.1 review_date  \n",
              "0 2022-05-01             NaN         NaN  \n",
              "1 2022-04-30             NaN         NaN  \n",
              "2 2022-04-27             NaN         NaN  \n",
              "3 2022-04-26             NaN         NaN  \n",
              "4 2022-05-30             NaN         NaN  "
            ],
            "text/html": [
              "\n",
              "  <div id=\"df-8462945f-bd27-4dfa-ab36-f963d9ab07e1\">\n",
              "    <div class=\"colab-df-container\">\n",
              "      <div>\n",
              "<style scoped>\n",
              "    .dataframe tbody tr th:only-of-type {\n",
              "        vertical-align: middle;\n",
              "    }\n",
              "\n",
              "    .dataframe tbody tr th {\n",
              "        vertical-align: top;\n",
              "    }\n",
              "\n",
              "    .dataframe thead th {\n",
              "        text-align: right;\n",
              "    }\n",
              "</style>\n",
              "<table border=\"1\" class=\"dataframe\">\n",
              "  <thead>\n",
              "    <tr style=\"text-align: right;\">\n",
              "      <th></th>\n",
              "      <th>parent_url</th>\n",
              "      <th>review_url</th>\n",
              "      <th>meta</th>\n",
              "      <th>review_title</th>\n",
              "      <th>travel_date</th>\n",
              "      <th>traveller_type</th>\n",
              "      <th>review_detail</th>\n",
              "      <th>written</th>\n",
              "      <th>review_detail.1</th>\n",
              "      <th>review_date</th>\n",
              "    </tr>\n",
              "  </thead>\n",
              "  <tbody>\n",
              "    <tr>\n",
              "      <th>0</th>\n",
              "      <td>https://tripadvisor.in/Attraction_Review-g297683-d317329-Reviews-Taj_Mahal-Agra_Agra_District_Uttar_Pradesh.html</td>\n",
              "      <td>https://tripadvisor.in/Attraction_Review-g297683-d317329-Reviews-or10-Taj_Mahal-Agra_Agra_District_Uttar_Pradesh.html</td>\n",
              "      <td>mulleeozSydney, Australia8 contributions0</td>\n",
              "      <td>Never disappoints!</td>\n",
              "      <td>2022-03-01</td>\n",
              "      <td>NaN</td>\n",
              "      <td>First thing in the morning or at sunset are the most peaceful times to enjoy this magnificent icon of India, a monument to love.Read more</td>\n",
              "      <td>2022-05-01</td>\n",
              "      <td>NaN</td>\n",
              "      <td>NaN</td>\n",
              "    </tr>\n",
              "    <tr>\n",
              "      <th>1</th>\n",
              "      <td>https://tripadvisor.in/Attraction_Review-g297683-d317329-Reviews-Taj_Mahal-Agra_Agra_District_Uttar_Pradesh.html</td>\n",
              "      <td>https://tripadvisor.in/Attraction_Review-g297683-d317329-Reviews-or10-Taj_Mahal-Agra_Agra_District_Uttar_Pradesh.html</td>\n",
              "      <td>emanuellandellStockholm, Sweden54 contributions0</td>\n",
              "      <td>Cinematic scenery from morning to evening</td>\n",
              "      <td>2022-05-01</td>\n",
              "      <td>Solo</td>\n",
              "      <td>It is a very beautiful scenery with amazing engineering, architecture and hand crafting. Come early and watch it spark in the sunrise.Read more</td>\n",
              "      <td>2022-04-30</td>\n",
              "      <td>NaN</td>\n",
              "      <td>NaN</td>\n",
              "    </tr>\n",
              "    <tr>\n",
              "      <th>2</th>\n",
              "      <td>https://tripadvisor.in/Attraction_Review-g297683-d317329-Reviews-Taj_Mahal-Agra_Agra_District_Uttar_Pradesh.html</td>\n",
              "      <td>https://tripadvisor.in/Attraction_Review-g297683-d317329-Reviews-or10-Taj_Mahal-Agra_Agra_District_Uttar_Pradesh.html</td>\n",
              "      <td>Masher16Mumbai, India2,470 contributions0</td>\n",
              "      <td>Simply mesmerising!</td>\n",
              "      <td>2022-04-01</td>\n",
              "      <td>NaN</td>\n",
              "      <td>What do I say about the Taj Mahal that has already not been said?! Took me so many years to finally visit it even though I live in India. Was completely blown over by the magnificence and boundless beauty of this spectacular monument and intrigued by the glorious as well as cruel history it holds. It's best to book a ticket online to avoid long queues to purchase one. There will be queues even...</td>\n",
              "      <td>2022-04-27</td>\n",
              "      <td>NaN</td>\n",
              "      <td>NaN</td>\n",
              "    </tr>\n",
              "    <tr>\n",
              "      <th>3</th>\n",
              "      <td>https://tripadvisor.in/Attraction_Review-g297683-d317329-Reviews-Taj_Mahal-Agra_Agra_District_Uttar_Pradesh.html</td>\n",
              "      <td>https://tripadvisor.in/Attraction_Review-g297683-d317329-Reviews-or10-Taj_Mahal-Agra_Agra_District_Uttar_Pradesh.html</td>\n",
              "      <td>dr floPort Saint Lucie, FL2 contributions0</td>\n",
              "      <td>Amazing adventure, great country, food was great and the people super attentive</td>\n",
              "      <td>2022-04-01</td>\n",
              "      <td>Family</td>\n",
              "      <td>Great country, excellent food, people super attentive.  Monument poorly kept but still standing.  Tour where amazing and full of education.Read more</td>\n",
              "      <td>2022-04-26</td>\n",
              "      <td>NaN</td>\n",
              "      <td>NaN</td>\n",
              "    </tr>\n",
              "    <tr>\n",
              "      <th>4</th>\n",
              "      <td>https://tripadvisor.in/Attraction_Review-g297683-d317329-Reviews-Taj_Mahal-Agra_Agra_District_Uttar_Pradesh.html</td>\n",
              "      <td>https://tripadvisor.in/Attraction_Review-g297683-d317329-Reviews-Taj_Mahal-Agra_Agra_District_Uttar_Pradesh.html</td>\n",
              "      <td>Curiositytraveller12 contributions0</td>\n",
              "      <td>Real wonder</td>\n",
              "      <td>2022-05-01</td>\n",
              "      <td>Couples</td>\n",
              "      <td>It is must see monument. You can buy ticket online. It is a big complex with beautiful marble building and garden. It is truly one of the wonder of the world.Read more</td>\n",
              "      <td>2022-05-30</td>\n",
              "      <td>NaN</td>\n",
              "      <td>NaN</td>\n",
              "    </tr>\n",
              "  </tbody>\n",
              "</table>\n",
              "</div>\n",
              "      <button class=\"colab-df-convert\" onclick=\"convertToInteractive('df-8462945f-bd27-4dfa-ab36-f963d9ab07e1')\"\n",
              "              title=\"Convert this dataframe to an interactive table.\"\n",
              "              style=\"display:none;\">\n",
              "        \n",
              "  <svg xmlns=\"http://www.w3.org/2000/svg\" height=\"24px\"viewBox=\"0 0 24 24\"\n",
              "       width=\"24px\">\n",
              "    <path d=\"M0 0h24v24H0V0z\" fill=\"none\"/>\n",
              "    <path d=\"M18.56 5.44l.94 2.06.94-2.06 2.06-.94-2.06-.94-.94-2.06-.94 2.06-2.06.94zm-11 1L8.5 8.5l.94-2.06 2.06-.94-2.06-.94L8.5 2.5l-.94 2.06-2.06.94zm10 10l.94 2.06.94-2.06 2.06-.94-2.06-.94-.94-2.06-.94 2.06-2.06.94z\"/><path d=\"M17.41 7.96l-1.37-1.37c-.4-.4-.92-.59-1.43-.59-.52 0-1.04.2-1.43.59L10.3 9.45l-7.72 7.72c-.78.78-.78 2.05 0 2.83L4 21.41c.39.39.9.59 1.41.59.51 0 1.02-.2 1.41-.59l7.78-7.78 2.81-2.81c.8-.78.8-2.07 0-2.86zM5.41 20L4 18.59l7.72-7.72 1.47 1.35L5.41 20z\"/>\n",
              "  </svg>\n",
              "      </button>\n",
              "      \n",
              "  <style>\n",
              "    .colab-df-container {\n",
              "      display:flex;\n",
              "      flex-wrap:wrap;\n",
              "      gap: 12px;\n",
              "    }\n",
              "\n",
              "    .colab-df-convert {\n",
              "      background-color: #E8F0FE;\n",
              "      border: none;\n",
              "      border-radius: 50%;\n",
              "      cursor: pointer;\n",
              "      display: none;\n",
              "      fill: #1967D2;\n",
              "      height: 32px;\n",
              "      padding: 0 0 0 0;\n",
              "      width: 32px;\n",
              "    }\n",
              "\n",
              "    .colab-df-convert:hover {\n",
              "      background-color: #E2EBFA;\n",
              "      box-shadow: 0px 1px 2px rgba(60, 64, 67, 0.3), 0px 1px 3px 1px rgba(60, 64, 67, 0.15);\n",
              "      fill: #174EA6;\n",
              "    }\n",
              "\n",
              "    [theme=dark] .colab-df-convert {\n",
              "      background-color: #3B4455;\n",
              "      fill: #D2E3FC;\n",
              "    }\n",
              "\n",
              "    [theme=dark] .colab-df-convert:hover {\n",
              "      background-color: #434B5C;\n",
              "      box-shadow: 0px 1px 3px 1px rgba(0, 0, 0, 0.15);\n",
              "      filter: drop-shadow(0px 1px 2px rgba(0, 0, 0, 0.3));\n",
              "      fill: #FFFFFF;\n",
              "    }\n",
              "  </style>\n",
              "\n",
              "      <script>\n",
              "        const buttonEl =\n",
              "          document.querySelector('#df-8462945f-bd27-4dfa-ab36-f963d9ab07e1 button.colab-df-convert');\n",
              "        buttonEl.style.display =\n",
              "          google.colab.kernel.accessAllowed ? 'block' : 'none';\n",
              "\n",
              "        async function convertToInteractive(key) {\n",
              "          const element = document.querySelector('#df-8462945f-bd27-4dfa-ab36-f963d9ab07e1');\n",
              "          const dataTable =\n",
              "            await google.colab.kernel.invokeFunction('convertToInteractive',\n",
              "                                                     [key], {});\n",
              "          if (!dataTable) return;\n",
              "\n",
              "          const docLinkHtml = 'Like what you see? Visit the ' +\n",
              "            '<a target=\"_blank\" href=https://colab.research.google.com/notebooks/data_table.ipynb>data table notebook</a>'\n",
              "            + ' to learn more about interactive tables.';\n",
              "          element.innerHTML = '';\n",
              "          dataTable['output_type'] = 'display_data';\n",
              "          await google.colab.output.renderOutput(dataTable, element);\n",
              "          const docLink = document.createElement('div');\n",
              "          docLink.innerHTML = docLinkHtml;\n",
              "          element.appendChild(docLink);\n",
              "        }\n",
              "      </script>\n",
              "    </div>\n",
              "  </div>\n",
              "  "
            ]
          },
          "metadata": {},
          "execution_count": 11
        }
      ],
      "source": [
        "df.head()"
      ]
    },
    {
      "cell_type": "code",
      "execution_count": 35,
      "metadata": {
        "id": "1DDqhOnJvSsz"
      },
      "outputs": [],
      "source": [
        "df2 = df.groupby(['parent_url'])['review_detail'].apply(lambda x: '\\n\\n'.join([str(y) for y in x])).reset_index()"
      ]
    },
    {
      "cell_type": "code",
      "execution_count": null,
      "metadata": {
        "colab": {
          "base_uri": "https://localhost:8080/",
          "height": 424
        },
        "id": "Udlw06i0wjiQ",
        "outputId": "4468179b-f021-496f-e3db-f72e8462693a"
      },
      "outputs": [
        {
          "data": {
            "text/html": [
              "\n",
              "  <div id=\"df-523ab98b-30dd-48a0-b724-40794eb88fff\">\n",
              "    <div class=\"colab-df-container\">\n",
              "      <div>\n",
              "<style scoped>\n",
              "    .dataframe tbody tr th:only-of-type {\n",
              "        vertical-align: middle;\n",
              "    }\n",
              "\n",
              "    .dataframe tbody tr th {\n",
              "        vertical-align: top;\n",
              "    }\n",
              "\n",
              "    .dataframe thead th {\n",
              "        text-align: right;\n",
              "    }\n",
              "</style>\n",
              "<table border=\"1\" class=\"dataframe\">\n",
              "  <thead>\n",
              "    <tr style=\"text-align: right;\">\n",
              "      <th></th>\n",
              "      <th>parent_url</th>\n",
              "      <th>review_detail</th>\n",
              "    </tr>\n",
              "  </thead>\n",
              "  <tbody>\n",
              "    <tr>\n",
              "      <th>0</th>\n",
              "      <td>https://tripadvisor.in/Attraction_Review-g1005...</td>\n",
              "      <td>This is Swayambhu Venkateshwara swamy Temple l...</td>\n",
              "    </tr>\n",
              "    <tr>\n",
              "      <th>1</th>\n",
              "      <td>https://tripadvisor.in/Attraction_Review-g1005...</td>\n",
              "      <td>Khanapuram Mini tank bund is located on bypass...</td>\n",
              "    </tr>\n",
              "    <tr>\n",
              "      <th>2</th>\n",
              "      <td>https://tripadvisor.in/Attraction_Review-g1005...</td>\n",
              "      <td>Lakaram Lake is one of the lake which is locat...</td>\n",
              "    </tr>\n",
              "    <tr>\n",
              "      <th>3</th>\n",
              "      <td>https://tripadvisor.in/Attraction_Review-g1005...</td>\n",
              "      <td>I came to India for my marriage (American marr...</td>\n",
              "    </tr>\n",
              "    <tr>\n",
              "      <th>4</th>\n",
              "      <td>https://tripadvisor.in/Attraction_Review-g1005...</td>\n",
              "      <td>We came in January, so the dam wasn't open (me...</td>\n",
              "    </tr>\n",
              "    <tr>\n",
              "      <th>...</th>\n",
              "      <td>...</td>\n",
              "      <td>...</td>\n",
              "    </tr>\n",
              "    <tr>\n",
              "      <th>13268</th>\n",
              "      <td>https://tripadvisor.in/Attraction_Review-g9734...</td>\n",
              "      <td>Kuppam river is the wedding of a river and bac...</td>\n",
              "    </tr>\n",
              "    <tr>\n",
              "      <th>13269</th>\n",
              "      <td>https://tripadvisor.in/Attraction_Review-g9734...</td>\n",
              "      <td>In Kannur district we have a lot to say to tho...</td>\n",
              "    </tr>\n",
              "    <tr>\n",
              "      <th>13270</th>\n",
              "      <td>https://tripadvisor.in/Attraction_Review-g9740...</td>\n",
              "      <td>Definitely must visit place on trip to madurai...</td>\n",
              "    </tr>\n",
              "    <tr>\n",
              "      <th>13271</th>\n",
              "      <td>https://tripadvisor.in/Attraction_Review-g9822...</td>\n",
              "      <td>It had a very good view point at this place. S...</td>\n",
              "    </tr>\n",
              "    <tr>\n",
              "      <th>13272</th>\n",
              "      <td>https://tripadvisor.in/Attraction_Review-g9822...</td>\n",
              "      <td>We visited on 31/1/21, and it was dry.Toi much...</td>\n",
              "    </tr>\n",
              "  </tbody>\n",
              "</table>\n",
              "<p>13273 rows × 2 columns</p>\n",
              "</div>\n",
              "      <button class=\"colab-df-convert\" onclick=\"convertToInteractive('df-523ab98b-30dd-48a0-b724-40794eb88fff')\"\n",
              "              title=\"Convert this dataframe to an interactive table.\"\n",
              "              style=\"display:none;\">\n",
              "        \n",
              "  <svg xmlns=\"http://www.w3.org/2000/svg\" height=\"24px\"viewBox=\"0 0 24 24\"\n",
              "       width=\"24px\">\n",
              "    <path d=\"M0 0h24v24H0V0z\" fill=\"none\"/>\n",
              "    <path d=\"M18.56 5.44l.94 2.06.94-2.06 2.06-.94-2.06-.94-.94-2.06-.94 2.06-2.06.94zm-11 1L8.5 8.5l.94-2.06 2.06-.94-2.06-.94L8.5 2.5l-.94 2.06-2.06.94zm10 10l.94 2.06.94-2.06 2.06-.94-2.06-.94-.94-2.06-.94 2.06-2.06.94z\"/><path d=\"M17.41 7.96l-1.37-1.37c-.4-.4-.92-.59-1.43-.59-.52 0-1.04.2-1.43.59L10.3 9.45l-7.72 7.72c-.78.78-.78 2.05 0 2.83L4 21.41c.39.39.9.59 1.41.59.51 0 1.02-.2 1.41-.59l7.78-7.78 2.81-2.81c.8-.78.8-2.07 0-2.86zM5.41 20L4 18.59l7.72-7.72 1.47 1.35L5.41 20z\"/>\n",
              "  </svg>\n",
              "      </button>\n",
              "      \n",
              "  <style>\n",
              "    .colab-df-container {\n",
              "      display:flex;\n",
              "      flex-wrap:wrap;\n",
              "      gap: 12px;\n",
              "    }\n",
              "\n",
              "    .colab-df-convert {\n",
              "      background-color: #E8F0FE;\n",
              "      border: none;\n",
              "      border-radius: 50%;\n",
              "      cursor: pointer;\n",
              "      display: none;\n",
              "      fill: #1967D2;\n",
              "      height: 32px;\n",
              "      padding: 0 0 0 0;\n",
              "      width: 32px;\n",
              "    }\n",
              "\n",
              "    .colab-df-convert:hover {\n",
              "      background-color: #E2EBFA;\n",
              "      box-shadow: 0px 1px 2px rgba(60, 64, 67, 0.3), 0px 1px 3px 1px rgba(60, 64, 67, 0.15);\n",
              "      fill: #174EA6;\n",
              "    }\n",
              "\n",
              "    [theme=dark] .colab-df-convert {\n",
              "      background-color: #3B4455;\n",
              "      fill: #D2E3FC;\n",
              "    }\n",
              "\n",
              "    [theme=dark] .colab-df-convert:hover {\n",
              "      background-color: #434B5C;\n",
              "      box-shadow: 0px 1px 3px 1px rgba(0, 0, 0, 0.15);\n",
              "      filter: drop-shadow(0px 1px 2px rgba(0, 0, 0, 0.3));\n",
              "      fill: #FFFFFF;\n",
              "    }\n",
              "  </style>\n",
              "\n",
              "      <script>\n",
              "        const buttonEl =\n",
              "          document.querySelector('#df-523ab98b-30dd-48a0-b724-40794eb88fff button.colab-df-convert');\n",
              "        buttonEl.style.display =\n",
              "          google.colab.kernel.accessAllowed ? 'block' : 'none';\n",
              "\n",
              "        async function convertToInteractive(key) {\n",
              "          const element = document.querySelector('#df-523ab98b-30dd-48a0-b724-40794eb88fff');\n",
              "          const dataTable =\n",
              "            await google.colab.kernel.invokeFunction('convertToInteractive',\n",
              "                                                     [key], {});\n",
              "          if (!dataTable) return;\n",
              "\n",
              "          const docLinkHtml = 'Like what you see? Visit the ' +\n",
              "            '<a target=\"_blank\" href=https://colab.research.google.com/notebooks/data_table.ipynb>data table notebook</a>'\n",
              "            + ' to learn more about interactive tables.';\n",
              "          element.innerHTML = '';\n",
              "          dataTable['output_type'] = 'display_data';\n",
              "          await google.colab.output.renderOutput(dataTable, element);\n",
              "          const docLink = document.createElement('div');\n",
              "          docLink.innerHTML = docLinkHtml;\n",
              "          element.appendChild(docLink);\n",
              "        }\n",
              "      </script>\n",
              "    </div>\n",
              "  </div>\n",
              "  "
            ],
            "text/plain": [
              "                                              parent_url  \\\n",
              "0      https://tripadvisor.in/Attraction_Review-g1005...   \n",
              "1      https://tripadvisor.in/Attraction_Review-g1005...   \n",
              "2      https://tripadvisor.in/Attraction_Review-g1005...   \n",
              "3      https://tripadvisor.in/Attraction_Review-g1005...   \n",
              "4      https://tripadvisor.in/Attraction_Review-g1005...   \n",
              "...                                                  ...   \n",
              "13268  https://tripadvisor.in/Attraction_Review-g9734...   \n",
              "13269  https://tripadvisor.in/Attraction_Review-g9734...   \n",
              "13270  https://tripadvisor.in/Attraction_Review-g9740...   \n",
              "13271  https://tripadvisor.in/Attraction_Review-g9822...   \n",
              "13272  https://tripadvisor.in/Attraction_Review-g9822...   \n",
              "\n",
              "                                           review_detail  \n",
              "0      This is Swayambhu Venkateshwara swamy Temple l...  \n",
              "1      Khanapuram Mini tank bund is located on bypass...  \n",
              "2      Lakaram Lake is one of the lake which is locat...  \n",
              "3      I came to India for my marriage (American marr...  \n",
              "4      We came in January, so the dam wasn't open (me...  \n",
              "...                                                  ...  \n",
              "13268  Kuppam river is the wedding of a river and bac...  \n",
              "13269  In Kannur district we have a lot to say to tho...  \n",
              "13270  Definitely must visit place on trip to madurai...  \n",
              "13271  It had a very good view point at this place. S...  \n",
              "13272  We visited on 31/1/21, and it was dry.Toi much...  \n",
              "\n",
              "[13273 rows x 2 columns]"
            ]
          },
          "execution_count": 7,
          "metadata": {},
          "output_type": "execute_result"
        }
      ],
      "source": [
        "df2"
      ]
    },
    {
      "cell_type": "code",
      "execution_count": null,
      "metadata": {
        "id": "2ZZngv8-yGZC"
      },
      "outputs": [],
      "source": [
        "# list_review =  df2['review_detail'].tolist()"
      ]
    },
    {
      "cell_type": "code",
      "execution_count": null,
      "metadata": {
        "id": "UGBJPuLJwTZQ"
      },
      "outputs": [],
      "source": [
        "# embeddings = embed(list_review)"
      ]
    },
    {
      "cell_type": "code",
      "execution_count": null,
      "metadata": {
        "id": "Uf9u6fGUzuHW"
      },
      "outputs": [],
      "source": [
        ""
      ]
    },
    {
      "cell_type": "code",
      "execution_count": null,
      "metadata": {
        "colab": {
          "background_save": true
        },
        "id": "RtcxeEmL9pFk"
      },
      "outputs": [],
      "source": [
        "np_arr = []\n",
        "for idx, review_row in df2.iterrows():  \n",
        "  np_arr.append(embed([review_row['review_detail']])[0])"
      ]
    },
    {
      "cell_type": "code",
      "execution_count": null,
      "metadata": {
        "colab": {
          "background_save": true
        },
        "id": "2ScxgNw6AATt"
      },
      "outputs": [],
      "source": [
        "embeddings = np.stack(np_arr)"
      ]
    },
    {
      "cell_type": "code",
      "execution_count": null,
      "metadata": {
        "id": "Ypb0a3myAMdv"
      },
      "outputs": [],
      "source": [
        "# embeddings"
      ]
    },
    {
      "cell_type": "code",
      "execution_count": null,
      "metadata": {
        "id": "sadvU9c51Cnt"
      },
      "outputs": [],
      "source": [
        "# scores = []\n",
        "# for idx, review_row in df2.iterrows():\n",
        "#   # review = review_row[1]  \n",
        "#   review_emb = embed([review_row['review_detail']])\n",
        "#   score = np.inner(sentence_embedding, review_emb)[0][0]\n",
        "#   scores.append(score)\n"
      ]
    },
    {
      "cell_type": "code",
      "execution_count": null,
      "metadata": {
        "id": "Lss-ZKuq3tIr"
      },
      "outputs": [],
      "source": [
        "# idxes = sorted(range(len(scores)), key = lambda sub: scores[sub])[-5:]\n",
        "# print([scores[i] for i in idxes])"
      ]
    },
    {
      "cell_type": "code",
      "execution_count": null,
      "metadata": {
        "id": "sDF_DJpj5FyI"
      },
      "outputs": [],
      "source": [
        "# print(df2['parent_url'][idxes])"
      ]
    },
    {
      "cell_type": "code",
      "execution_count": null,
      "metadata": {
        "colab": {
          "base_uri": "https://localhost:8080/",
          "height": 2408
        },
        "id": "dG9Xo11vtiki",
        "outputId": "6c6d42b5-5f8a-4010-fddc-7247ec027144"
      },
      "outputs": [
        {
          "name": "stdout",
          "output_type": "stream",
          "text": [
            "[0.3944431  0.37529683 0.37312174 0.3382097  0.3292192  0.32749063\n",
            " 0.32238743 0.32117227 0.31516552 0.31486386]\n"
          ]
        },
        {
          "data": {
            "text/html": [
              "\n",
              "  <div id=\"df-c73772bd-c266-41a2-8f14-ddd4f3d4d83b\">\n",
              "    <div class=\"colab-df-container\">\n",
              "      <div>\n",
              "<style scoped>\n",
              "    .dataframe tbody tr th:only-of-type {\n",
              "        vertical-align: middle;\n",
              "    }\n",
              "\n",
              "    .dataframe tbody tr th {\n",
              "        vertical-align: top;\n",
              "    }\n",
              "\n",
              "    .dataframe thead th {\n",
              "        text-align: right;\n",
              "    }\n",
              "</style>\n",
              "<table border=\"1\" class=\"dataframe\">\n",
              "  <thead>\n",
              "    <tr style=\"text-align: right;\">\n",
              "      <th></th>\n",
              "      <th>parent_url</th>\n",
              "      <th>review_detail</th>\n",
              "    </tr>\n",
              "  </thead>\n",
              "  <tbody>\n",
              "    <tr>\n",
              "      <th>3257</th>\n",
              "      <td>https://tripadvisor.in/Attraction_Review-g2282...</td>\n",
              "      <td>Very attractive and natural tourist place for ...</td>\n",
              "    </tr>\n",
              "    <tr>\n",
              "      <th>7855</th>\n",
              "      <td>https://tripadvisor.in/Attraction_Review-g2976...</td>\n",
              "      <td>A must for those who love a little trekking. W...</td>\n",
              "    </tr>\n",
              "    <tr>\n",
              "      <th>3453</th>\n",
              "      <td>https://tripadvisor.in/Attraction_Review-g2287...</td>\n",
              "      <td>Dudhawa Dam is built across Mahanadi river is ...</td>\n",
              "    </tr>\n",
              "    <tr>\n",
              "      <th>13105</th>\n",
              "      <td>https://tripadvisor.in/Attraction_Review-g8584...</td>\n",
              "      <td>A nice place for an evening stroll with your p...</td>\n",
              "    </tr>\n",
              "    <tr>\n",
              "      <th>496</th>\n",
              "      <td>https://tripadvisor.in/Attraction_Review-g1138...</td>\n",
              "      <td>rakasganda fall is a beautiful waterfall on ri...</td>\n",
              "    </tr>\n",
              "    <tr>\n",
              "      <th>12003</th>\n",
              "      <td>https://tripadvisor.in/Attraction_Review-g6609...</td>\n",
              "      <td>If you lover of nature then this is good place...</td>\n",
              "    </tr>\n",
              "    <tr>\n",
              "      <th>13075</th>\n",
              "      <td>https://tripadvisor.in/Attraction_Review-g8547...</td>\n",
              "      <td>it is good place for tour i and my friend goes...</td>\n",
              "    </tr>\n",
              "    <tr>\n",
              "      <th>10963</th>\n",
              "      <td>https://tripadvisor.in/Attraction_Review-g5037...</td>\n",
              "      <td>This is also called Champak Lake. It is a good...</td>\n",
              "    </tr>\n",
              "    <tr>\n",
              "      <th>1722</th>\n",
              "      <td>https://tripadvisor.in/Attraction_Review-g1239...</td>\n",
              "      <td>I spent over three hours at the Palm spa- deep...</td>\n",
              "    </tr>\n",
              "    <tr>\n",
              "      <th>10882</th>\n",
              "      <td>https://tripadvisor.in/Attraction_Review-g5036...</td>\n",
              "      <td>Once upon a time the Deepor bill was home to l...</td>\n",
              "    </tr>\n",
              "  </tbody>\n",
              "</table>\n",
              "</div>\n",
              "      <button class=\"colab-df-convert\" onclick=\"convertToInteractive('df-c73772bd-c266-41a2-8f14-ddd4f3d4d83b')\"\n",
              "              title=\"Convert this dataframe to an interactive table.\"\n",
              "              style=\"display:none;\">\n",
              "        \n",
              "  <svg xmlns=\"http://www.w3.org/2000/svg\" height=\"24px\"viewBox=\"0 0 24 24\"\n",
              "       width=\"24px\">\n",
              "    <path d=\"M0 0h24v24H0V0z\" fill=\"none\"/>\n",
              "    <path d=\"M18.56 5.44l.94 2.06.94-2.06 2.06-.94-2.06-.94-.94-2.06-.94 2.06-2.06.94zm-11 1L8.5 8.5l.94-2.06 2.06-.94-2.06-.94L8.5 2.5l-.94 2.06-2.06.94zm10 10l.94 2.06.94-2.06 2.06-.94-2.06-.94-.94-2.06-.94 2.06-2.06.94z\"/><path d=\"M17.41 7.96l-1.37-1.37c-.4-.4-.92-.59-1.43-.59-.52 0-1.04.2-1.43.59L10.3 9.45l-7.72 7.72c-.78.78-.78 2.05 0 2.83L4 21.41c.39.39.9.59 1.41.59.51 0 1.02-.2 1.41-.59l7.78-7.78 2.81-2.81c.8-.78.8-2.07 0-2.86zM5.41 20L4 18.59l7.72-7.72 1.47 1.35L5.41 20z\"/>\n",
              "  </svg>\n",
              "      </button>\n",
              "      \n",
              "  <style>\n",
              "    .colab-df-container {\n",
              "      display:flex;\n",
              "      flex-wrap:wrap;\n",
              "      gap: 12px;\n",
              "    }\n",
              "\n",
              "    .colab-df-convert {\n",
              "      background-color: #E8F0FE;\n",
              "      border: none;\n",
              "      border-radius: 50%;\n",
              "      cursor: pointer;\n",
              "      display: none;\n",
              "      fill: #1967D2;\n",
              "      height: 32px;\n",
              "      padding: 0 0 0 0;\n",
              "      width: 32px;\n",
              "    }\n",
              "\n",
              "    .colab-df-convert:hover {\n",
              "      background-color: #E2EBFA;\n",
              "      box-shadow: 0px 1px 2px rgba(60, 64, 67, 0.3), 0px 1px 3px 1px rgba(60, 64, 67, 0.15);\n",
              "      fill: #174EA6;\n",
              "    }\n",
              "\n",
              "    [theme=dark] .colab-df-convert {\n",
              "      background-color: #3B4455;\n",
              "      fill: #D2E3FC;\n",
              "    }\n",
              "\n",
              "    [theme=dark] .colab-df-convert:hover {\n",
              "      background-color: #434B5C;\n",
              "      box-shadow: 0px 1px 3px 1px rgba(0, 0, 0, 0.15);\n",
              "      filter: drop-shadow(0px 1px 2px rgba(0, 0, 0, 0.3));\n",
              "      fill: #FFFFFF;\n",
              "    }\n",
              "  </style>\n",
              "\n",
              "      <script>\n",
              "        const buttonEl =\n",
              "          document.querySelector('#df-c73772bd-c266-41a2-8f14-ddd4f3d4d83b button.colab-df-convert');\n",
              "        buttonEl.style.display =\n",
              "          google.colab.kernel.accessAllowed ? 'block' : 'none';\n",
              "\n",
              "        async function convertToInteractive(key) {\n",
              "          const element = document.querySelector('#df-c73772bd-c266-41a2-8f14-ddd4f3d4d83b');\n",
              "          const dataTable =\n",
              "            await google.colab.kernel.invokeFunction('convertToInteractive',\n",
              "                                                     [key], {});\n",
              "          if (!dataTable) return;\n",
              "\n",
              "          const docLinkHtml = 'Like what you see? Visit the ' +\n",
              "            '<a target=\"_blank\" href=https://colab.research.google.com/notebooks/data_table.ipynb>data table notebook</a>'\n",
              "            + ' to learn more about interactive tables.';\n",
              "          element.innerHTML = '';\n",
              "          dataTable['output_type'] = 'display_data';\n",
              "          await google.colab.output.renderOutput(dataTable, element);\n",
              "          const docLink = document.createElement('div');\n",
              "          docLink.innerHTML = docLinkHtml;\n",
              "          element.appendChild(docLink);\n",
              "        }\n",
              "      </script>\n",
              "    </div>\n",
              "  </div>\n",
              "  "
            ],
            "text/plain": [
              "                                              parent_url  \\\n",
              "3257   https://tripadvisor.in/Attraction_Review-g2282...   \n",
              "7855   https://tripadvisor.in/Attraction_Review-g2976...   \n",
              "3453   https://tripadvisor.in/Attraction_Review-g2287...   \n",
              "13105  https://tripadvisor.in/Attraction_Review-g8584...   \n",
              "496    https://tripadvisor.in/Attraction_Review-g1138...   \n",
              "12003  https://tripadvisor.in/Attraction_Review-g6609...   \n",
              "13075  https://tripadvisor.in/Attraction_Review-g8547...   \n",
              "10963  https://tripadvisor.in/Attraction_Review-g5037...   \n",
              "1722   https://tripadvisor.in/Attraction_Review-g1239...   \n",
              "10882  https://tripadvisor.in/Attraction_Review-g5036...   \n",
              "\n",
              "                                           review_detail  \n",
              "3257   Very attractive and natural tourist place for ...  \n",
              "7855   A must for those who love a little trekking. W...  \n",
              "3453   Dudhawa Dam is built across Mahanadi river is ...  \n",
              "13105  A nice place for an evening stroll with your p...  \n",
              "496    rakasganda fall is a beautiful waterfall on ri...  \n",
              "12003  If you lover of nature then this is good place...  \n",
              "13075  it is good place for tour i and my friend goes...  \n",
              "10963  This is also called Champak Lake. It is a good...  \n",
              "1722   I spent over three hours at the Palm spa- deep...  \n",
              "10882  Once upon a time the Deepor bill was home to l...  "
            ]
          },
          "execution_count": 11,
          "metadata": {},
          "output_type": "execute_result"
        }
      ],
      "source": [
        "sentence_embedding = embed(['a luxury place for couples with nice weather, a romantic setting and wine. A moonlit walk would be an added advantage'])\n",
        "similarity_array = np.inner(sentence_embedding, embeddings)[0]\n",
        "top = similarity_array.argsort()[::-1][:10]\n",
        "print(similarity_array[top])\n",
        "df2.iloc[top,:]"
      ]
    },
    {
      "cell_type": "code",
      "execution_count": null,
      "metadata": {
        "id": "CB_T9WPLzEeY"
      },
      "outputs": [],
      "source": [
        "# index_max = np.argmax(similarity_array)\n",
        "# top_4 = np.argpartition(similarity_array, -10)[-10:]\n",
        "# top_4 = similarity_array.argsort()[::-1][:4]\n",
        "# sorted = np.sort(similarity_array[top_4])\n",
        "# sorted"
      ]
    },
    {
      "cell_type": "code",
      "execution_count": null,
      "metadata": {
        "id": "jl1a1OZ4MdtJ"
      },
      "outputs": [],
      "source": [
        "df2['embeddings'] = [str(i.tolist()) for i in embeddings]"
      ]
    },
    {
      "cell_type": "code",
      "execution_count": null,
      "metadata": {
        "colab": {
          "base_uri": "https://localhost:8080/",
          "height": 1000
        },
        "id": "_Oob8kazNAyi",
        "outputId": "1e3ea4d1-ffa0-4c16-95dc-413960b0065e"
      },
      "outputs": [
        {
          "data": {
            "text/html": [
              "\n",
              "  <div id=\"df-a31dedde-4a04-4f08-8206-9846004bebc1\">\n",
              "    <div class=\"colab-df-container\">\n",
              "      <div>\n",
              "<style scoped>\n",
              "    .dataframe tbody tr th:only-of-type {\n",
              "        vertical-align: middle;\n",
              "    }\n",
              "\n",
              "    .dataframe tbody tr th {\n",
              "        vertical-align: top;\n",
              "    }\n",
              "\n",
              "    .dataframe thead th {\n",
              "        text-align: right;\n",
              "    }\n",
              "</style>\n",
              "<table border=\"1\" class=\"dataframe\">\n",
              "  <thead>\n",
              "    <tr style=\"text-align: right;\">\n",
              "      <th></th>\n",
              "      <th>parent_url</th>\n",
              "      <th>review_detail</th>\n",
              "      <th>embeddings</th>\n",
              "    </tr>\n",
              "  </thead>\n",
              "  <tbody>\n",
              "    <tr>\n",
              "      <th>0</th>\n",
              "      <td>https://tripadvisor.in/Attraction_Review-g1005753-d21513975-Reviews-Sri_Venkateswara_Swamy_temple-Khammam_Khammam_District_Telangana.html</td>\n",
              "      <td>This is Swayambhu Venkateshwara swamy Temple located in Jeela Cheruvu village of Khammam District, which is on Khammam to Suryapeta Highway at a distance of 28 km from Khammam Town.This temple was constructed in 1964 and within 2 years it was adopted by the Endowment department in 1966.Near by Attractions:1. Nelakondapally Venkateshwara Alayam, Budha Stupam, Bakta Ramadasu kshetram2. Kusumanch...</td>\n",
              "      <td>[-0.04686907306313515, 0.0627259835600853, -0.0024402092676609755, -0.06856626272201538, 0.0018221988575533032, 0.017945772036910057, 0.04228108376264572, -0.04722059518098831, 0.03119659796357155, -0.011553816497325897, 0.031830012798309326, 0.03965260833501816, -0.04301382601261139, -0.010827656835317612, 0.055076416581869125, 0.030055560171604156, -0.05171956121921539, -0.024948908016085625...</td>\n",
              "    </tr>\n",
              "    <tr>\n",
              "      <th>1</th>\n",
              "      <td>https://tripadvisor.in/Attraction_Review-g1005753-d23481775-Reviews-Khanapuram_Mini_Tank_Bund-Khammam_Khammam_District_Telangana.html</td>\n",
              "      <td>Khanapuram Mini tank bund is located on bypass road of Khammam. This is actually normal lake which is developed with 1.2 Cr,  in recent days. This is inaugurated by KTR on 7th December 2020.This is best place to spend with kids in the evening. and also there is walking lane arranged inside for morning and evening walkersRead more</td>\n",
              "      <td>[-0.0679028332233429, -0.030843446031212807, 0.05211750417947769, 0.00047578196972608566, -0.0780850425362587, 0.013843120075762272, -0.04608139023184776, -0.01835673861205578, 0.06451243907213211, -0.054844606667757034, -0.0067199040204286575, -0.04810450226068497, -0.0369139090180397, 0.016743117943406105, 0.03559676185250282, 0.06809930503368378, -0.06016929820179939, 0.022091485559940338, ...</td>\n",
              "    </tr>\n",
              "    <tr>\n",
              "      <th>2</th>\n",
              "      <td>https://tripadvisor.in/Attraction_Review-g1005753-d23481776-Reviews-Lakaram_Lake-Khammam_Khammam_District_Telangana.html</td>\n",
              "      <td>Lakaram Lake is one of the lake which is located inside city. it is located 4 km away from Bus stand. 15 years back it was just a lake surrounded by trees. After Telangana formation it is developed under Mission Kakatiya with many tourist attractions surrounding this lake. Now it is a lake with Park and Boating facility and also developed Tank bund surrounding this lake.This is busiest weekend...</td>\n",
              "      <td>[-0.009210021235048771, 0.01644778996706009, 0.017972463741898537, -0.012027481570839882, 0.02872764691710472, 0.0661000907421112, 0.05083253234624863, -0.046123579144477844, 0.07119345664978027, -0.06435220688581467, -0.006785046309232712, 0.03232250735163689, 0.009185601957142353, -0.06543515622615814, 0.06140080466866493, -0.0013695011148229241, -0.017849313095211983, -0.06260905414819717, ...</td>\n",
              "    </tr>\n",
              "    <tr>\n",
              "      <th>3</th>\n",
              "      <td>https://tripadvisor.in/Attraction_Review-g1005753-d3705296-Reviews-Sri_Sitaramachandra_Swamy_Temple-Khammam_Khammam_District_Telangana.html</td>\n",
              "      <td>I came to India for my marriage (American marrying Indian), so we visited a lot of temples as it was my first time in the country. This temple was by far my favorite. It was clean, the lines weren't too long, and you had way more time to look at multiple Gods than at Tirumala. Read more\\n\\nThe trip from chennai involved a rail visit to Rajahmundry and then an hour by road to reach the boat poi...</td>\n",
              "      <td>[-0.05371842533349991, 0.04880871996283531, 0.05237329378724098, -0.05472073331475258, 0.054929543286561966, 0.03925148770213127, 0.04312186315655708, -0.05562471225857735, 0.05691562592983246, -0.05760585889220238, 0.03498023748397827, 0.04719546064734459, -0.05690627917647362, -0.024073448032140732, 0.02004934847354889, -0.05732019618153572, -0.049951788038015366, 0.05359821021556854, -0.051...</td>\n",
              "    </tr>\n",
              "    <tr>\n",
              "      <th>4</th>\n",
              "      <td>https://tripadvisor.in/Attraction_Review-g1005753-d5788009-Reviews-Kinnerasani_Wildlife_Sanctuary-Khammam_Khammam_District_Telangana.html</td>\n",
              "      <td>We came in January, so the dam wasn't open (meaning the other side of the dam was pretty dry). With that being said, the view was absolutely breathtaking. We saw lots of wild deer, a black swan, and lots of monkeys - a novelty for an American. If you're in the area it's definitely worth stopping by and spending 1 hour. 4 stars because while they do charge you for entrance, there's a lot of gar...</td>\n",
              "      <td>[-0.03658287972211838, -0.02867560274899006, 0.05110232159495354, -0.05624942108988762, 0.036615047603845596, 0.06127943843603134, 0.031801216304302216, -0.015941381454467773, 0.06140374019742012, -0.06120631471276283, 0.060968924313783646, 0.05377444252371788, -0.04545979201793671, 0.02393253892660141, 0.03179312124848366, 0.04144955798983574, -0.029355516657233238, 0.05521226301789284, -0.04...</td>\n",
              "    </tr>\n",
              "  </tbody>\n",
              "</table>\n",
              "</div>\n",
              "      <button class=\"colab-df-convert\" onclick=\"convertToInteractive('df-a31dedde-4a04-4f08-8206-9846004bebc1')\"\n",
              "              title=\"Convert this dataframe to an interactive table.\"\n",
              "              style=\"display:none;\">\n",
              "        \n",
              "  <svg xmlns=\"http://www.w3.org/2000/svg\" height=\"24px\"viewBox=\"0 0 24 24\"\n",
              "       width=\"24px\">\n",
              "    <path d=\"M0 0h24v24H0V0z\" fill=\"none\"/>\n",
              "    <path d=\"M18.56 5.44l.94 2.06.94-2.06 2.06-.94-2.06-.94-.94-2.06-.94 2.06-2.06.94zm-11 1L8.5 8.5l.94-2.06 2.06-.94-2.06-.94L8.5 2.5l-.94 2.06-2.06.94zm10 10l.94 2.06.94-2.06 2.06-.94-2.06-.94-.94-2.06-.94 2.06-2.06.94z\"/><path d=\"M17.41 7.96l-1.37-1.37c-.4-.4-.92-.59-1.43-.59-.52 0-1.04.2-1.43.59L10.3 9.45l-7.72 7.72c-.78.78-.78 2.05 0 2.83L4 21.41c.39.39.9.59 1.41.59.51 0 1.02-.2 1.41-.59l7.78-7.78 2.81-2.81c.8-.78.8-2.07 0-2.86zM5.41 20L4 18.59l7.72-7.72 1.47 1.35L5.41 20z\"/>\n",
              "  </svg>\n",
              "      </button>\n",
              "      \n",
              "  <style>\n",
              "    .colab-df-container {\n",
              "      display:flex;\n",
              "      flex-wrap:wrap;\n",
              "      gap: 12px;\n",
              "    }\n",
              "\n",
              "    .colab-df-convert {\n",
              "      background-color: #E8F0FE;\n",
              "      border: none;\n",
              "      border-radius: 50%;\n",
              "      cursor: pointer;\n",
              "      display: none;\n",
              "      fill: #1967D2;\n",
              "      height: 32px;\n",
              "      padding: 0 0 0 0;\n",
              "      width: 32px;\n",
              "    }\n",
              "\n",
              "    .colab-df-convert:hover {\n",
              "      background-color: #E2EBFA;\n",
              "      box-shadow: 0px 1px 2px rgba(60, 64, 67, 0.3), 0px 1px 3px 1px rgba(60, 64, 67, 0.15);\n",
              "      fill: #174EA6;\n",
              "    }\n",
              "\n",
              "    [theme=dark] .colab-df-convert {\n",
              "      background-color: #3B4455;\n",
              "      fill: #D2E3FC;\n",
              "    }\n",
              "\n",
              "    [theme=dark] .colab-df-convert:hover {\n",
              "      background-color: #434B5C;\n",
              "      box-shadow: 0px 1px 3px 1px rgba(0, 0, 0, 0.15);\n",
              "      filter: drop-shadow(0px 1px 2px rgba(0, 0, 0, 0.3));\n",
              "      fill: #FFFFFF;\n",
              "    }\n",
              "  </style>\n",
              "\n",
              "      <script>\n",
              "        const buttonEl =\n",
              "          document.querySelector('#df-a31dedde-4a04-4f08-8206-9846004bebc1 button.colab-df-convert');\n",
              "        buttonEl.style.display =\n",
              "          google.colab.kernel.accessAllowed ? 'block' : 'none';\n",
              "\n",
              "        async function convertToInteractive(key) {\n",
              "          const element = document.querySelector('#df-a31dedde-4a04-4f08-8206-9846004bebc1');\n",
              "          const dataTable =\n",
              "            await google.colab.kernel.invokeFunction('convertToInteractive',\n",
              "                                                     [key], {});\n",
              "          if (!dataTable) return;\n",
              "\n",
              "          const docLinkHtml = 'Like what you see? Visit the ' +\n",
              "            '<a target=\"_blank\" href=https://colab.research.google.com/notebooks/data_table.ipynb>data table notebook</a>'\n",
              "            + ' to learn more about interactive tables.';\n",
              "          element.innerHTML = '';\n",
              "          dataTable['output_type'] = 'display_data';\n",
              "          await google.colab.output.renderOutput(dataTable, element);\n",
              "          const docLink = document.createElement('div');\n",
              "          docLink.innerHTML = docLinkHtml;\n",
              "          element.appendChild(docLink);\n",
              "        }\n",
              "      </script>\n",
              "    </div>\n",
              "  </div>\n",
              "  "
            ],
            "text/plain": [
              "                                                                                                                                    parent_url  \\\n",
              "0    https://tripadvisor.in/Attraction_Review-g1005753-d21513975-Reviews-Sri_Venkateswara_Swamy_temple-Khammam_Khammam_District_Telangana.html   \n",
              "1        https://tripadvisor.in/Attraction_Review-g1005753-d23481775-Reviews-Khanapuram_Mini_Tank_Bund-Khammam_Khammam_District_Telangana.html   \n",
              "2                     https://tripadvisor.in/Attraction_Review-g1005753-d23481776-Reviews-Lakaram_Lake-Khammam_Khammam_District_Telangana.html   \n",
              "3  https://tripadvisor.in/Attraction_Review-g1005753-d3705296-Reviews-Sri_Sitaramachandra_Swamy_Temple-Khammam_Khammam_District_Telangana.html   \n",
              "4    https://tripadvisor.in/Attraction_Review-g1005753-d5788009-Reviews-Kinnerasani_Wildlife_Sanctuary-Khammam_Khammam_District_Telangana.html   \n",
              "\n",
              "                                                                                                                                                                                                                                                                                                                                                                                                     review_detail  \\\n",
              "0  This is Swayambhu Venkateshwara swamy Temple located in Jeela Cheruvu village of Khammam District, which is on Khammam to Suryapeta Highway at a distance of 28 km from Khammam Town.This temple was constructed in 1964 and within 2 years it was adopted by the Endowment department in 1966.Near by Attractions:1. Nelakondapally Venkateshwara Alayam, Budha Stupam, Bakta Ramadasu kshetram2. Kusumanch...   \n",
              "1                                                                      Khanapuram Mini tank bund is located on bypass road of Khammam. This is actually normal lake which is developed with 1.2 Cr,  in recent days. This is inaugurated by KTR on 7th December 2020.This is best place to spend with kids in the evening. and also there is walking lane arranged inside for morning and evening walkersRead more   \n",
              "2  Lakaram Lake is one of the lake which is located inside city. it is located 4 km away from Bus stand. 15 years back it was just a lake surrounded by trees. After Telangana formation it is developed under Mission Kakatiya with many tourist attractions surrounding this lake. Now it is a lake with Park and Boating facility and also developed Tank bund surrounding this lake.This is busiest weekend...   \n",
              "3  I came to India for my marriage (American marrying Indian), so we visited a lot of temples as it was my first time in the country. This temple was by far my favorite. It was clean, the lines weren't too long, and you had way more time to look at multiple Gods than at Tirumala. Read more\\n\\nThe trip from chennai involved a rail visit to Rajahmundry and then an hour by road to reach the boat poi...   \n",
              "4  We came in January, so the dam wasn't open (meaning the other side of the dam was pretty dry). With that being said, the view was absolutely breathtaking. We saw lots of wild deer, a black swan, and lots of monkeys - a novelty for an American. If you're in the area it's definitely worth stopping by and spending 1 hour. 4 stars because while they do charge you for entrance, there's a lot of gar...   \n",
              "\n",
              "                                                                                                                                                                                                                                                                                                                                                                                                        embeddings  \n",
              "0  [-0.04686907306313515, 0.0627259835600853, -0.0024402092676609755, -0.06856626272201538, 0.0018221988575533032, 0.017945772036910057, 0.04228108376264572, -0.04722059518098831, 0.03119659796357155, -0.011553816497325897, 0.031830012798309326, 0.03965260833501816, -0.04301382601261139, -0.010827656835317612, 0.055076416581869125, 0.030055560171604156, -0.05171956121921539, -0.024948908016085625...  \n",
              "1  [-0.0679028332233429, -0.030843446031212807, 0.05211750417947769, 0.00047578196972608566, -0.0780850425362587, 0.013843120075762272, -0.04608139023184776, -0.01835673861205578, 0.06451243907213211, -0.054844606667757034, -0.0067199040204286575, -0.04810450226068497, -0.0369139090180397, 0.016743117943406105, 0.03559676185250282, 0.06809930503368378, -0.06016929820179939, 0.022091485559940338, ...  \n",
              "2  [-0.009210021235048771, 0.01644778996706009, 0.017972463741898537, -0.012027481570839882, 0.02872764691710472, 0.0661000907421112, 0.05083253234624863, -0.046123579144477844, 0.07119345664978027, -0.06435220688581467, -0.006785046309232712, 0.03232250735163689, 0.009185601957142353, -0.06543515622615814, 0.06140080466866493, -0.0013695011148229241, -0.017849313095211983, -0.06260905414819717, ...  \n",
              "3  [-0.05371842533349991, 0.04880871996283531, 0.05237329378724098, -0.05472073331475258, 0.054929543286561966, 0.03925148770213127, 0.04312186315655708, -0.05562471225857735, 0.05691562592983246, -0.05760585889220238, 0.03498023748397827, 0.04719546064734459, -0.05690627917647362, -0.024073448032140732, 0.02004934847354889, -0.05732019618153572, -0.049951788038015366, 0.05359821021556854, -0.051...  \n",
              "4  [-0.03658287972211838, -0.02867560274899006, 0.05110232159495354, -0.05624942108988762, 0.036615047603845596, 0.06127943843603134, 0.031801216304302216, -0.015941381454467773, 0.06140374019742012, -0.06120631471276283, 0.060968924313783646, 0.05377444252371788, -0.04545979201793671, 0.02393253892660141, 0.03179312124848366, 0.04144955798983574, -0.029355516657233238, 0.05521226301789284, -0.04...  "
            ]
          },
          "execution_count": 23,
          "metadata": {},
          "output_type": "execute_result"
        }
      ],
      "source": [
        "df2.head()"
      ]
    },
    {
      "cell_type": "code",
      "execution_count": null,
      "metadata": {
        "id": "SRPqNX1t2k-7"
      },
      "outputs": [],
      "source": [
        "df2.to_csv('drive/MyDrive/ta/processed/final/reviews_grouped_emb.tsv', sep='\\t')"
      ]
    },
    {
      "cell_type": "code",
      "execution_count": null,
      "metadata": {
        "colab": {
          "base_uri": "https://localhost:8080/",
          "height": 723
        },
        "id": "lIfm5POn5eIz",
        "outputId": "c3b6ed98-0f52-4a83-c785-5d3a186ccc05"
      },
      "outputs": [
        {
          "name": "stdout",
          "output_type": "stream",
          "text": [
            "[301 906 223  57]\n"
          ]
        },
        {
          "data": {
            "text/html": [
              "\n",
              "  <div id=\"df-09554215-3a2a-4efa-b774-9c55f82ac735\">\n",
              "    <div class=\"colab-df-container\">\n",
              "      <div>\n",
              "<style scoped>\n",
              "    .dataframe tbody tr th:only-of-type {\n",
              "        vertical-align: middle;\n",
              "    }\n",
              "\n",
              "    .dataframe tbody tr th {\n",
              "        vertical-align: top;\n",
              "    }\n",
              "\n",
              "    .dataframe thead th {\n",
              "        text-align: right;\n",
              "    }\n",
              "</style>\n",
              "<table border=\"1\" class=\"dataframe\">\n",
              "  <thead>\n",
              "    <tr style=\"text-align: right;\">\n",
              "      <th></th>\n",
              "      <th>parent_url</th>\n",
              "      <th>review_detail</th>\n",
              "    </tr>\n",
              "  </thead>\n",
              "  <tbody>\n",
              "    <tr>\n",
              "      <th>301</th>\n",
              "      <td>https://tripadvisor.in/Attraction_Review-g297628-d2587750-Reviews-Ulsoor_Lake-Bengaluru_Bangalore_District_Karnataka.html</td>\n",
              "      <td>nice ambience  and very well maintained  interior, one more suggestion is there some out  Side Area need to cleaned. Cool environment with good view.Read more\\n\\nIt's a lovely service n kind hearted ...The food n everything was sooo good..Srija she was suchhh a sweetheart üíóshes so good !!!love the way she was talking wit us.. Alhamdulillah...Thank youuu so much srijaaa...it was lovely talki...</td>\n",
              "    </tr>\n",
              "    <tr>\n",
              "      <th>906</th>\n",
              "      <td>https://tripadvisor.in/Attraction_Review-g659792-d1314871-Reviews-Bharati_Government_Park-Pondicherry_Union_Territory_of_Pondicherry.html</td>\n",
              "      <td>A good clean park. good for walking and kids to play around. lot of trees. though we went in summer we felt goodRead more\\n\\nbest place to visit with children. lot of play options and activities are lined up for the kids here.Read more\\n\\nI walk here every time I visit Pondicherry but only this trip did I hear the story of how this park was formed. Very French!Read more\\n\\nA beautiful garden i...</td>\n",
              "    </tr>\n",
              "    <tr>\n",
              "      <th>223</th>\n",
              "      <td>https://tripadvisor.in/Attraction_Review-g297608-d2501233-Reviews-Sabarmati_Riverfront-Ahmedabad_Ahmedabad_District_Gujarat.html</td>\n",
              "      <td>earlier there was the slum at this place !! But Mr. Modi Chief Minister of State of that time did good and shifted all people to other houses and beautiful riverfront developed !Read more\\n\\nStaying at the Hyatt Regency, The Riverfront in the evenings was a wonderfully refreshing sight.If you are staying at one of the hotels astriding the Sabarmati, would reccommend at least one visit during t...</td>\n",
              "    </tr>\n",
              "    <tr>\n",
              "      <th>57</th>\n",
              "      <td>https://tripadvisor.in/Attraction_Review-g1162345-d1601651-Reviews-Yercaud-Salem_Salem_District_Tamil_Nadu.html</td>\n",
              "      <td>This is a must visit hill station in Tamil Nadu. Can spend 2 days easily, take cab for local tours. Lot of view points snd gardens to visit and ofcourse boating. This area produces great pepper and tea, coffee and massage oils and you can buy them everywhere.Read more\\n\\nYercaud is a nice Tourist place, except on 2 factors... Roads are very bad and Cleanliness is poor as most of the places are...</td>\n",
              "    </tr>\n",
              "  </tbody>\n",
              "</table>\n",
              "</div>\n",
              "      <button class=\"colab-df-convert\" onclick=\"convertToInteractive('df-09554215-3a2a-4efa-b774-9c55f82ac735')\"\n",
              "              title=\"Convert this dataframe to an interactive table.\"\n",
              "              style=\"display:none;\">\n",
              "        \n",
              "  <svg xmlns=\"http://www.w3.org/2000/svg\" height=\"24px\"viewBox=\"0 0 24 24\"\n",
              "       width=\"24px\">\n",
              "    <path d=\"M0 0h24v24H0V0z\" fill=\"none\"/>\n",
              "    <path d=\"M18.56 5.44l.94 2.06.94-2.06 2.06-.94-2.06-.94-.94-2.06-.94 2.06-2.06.94zm-11 1L8.5 8.5l.94-2.06 2.06-.94-2.06-.94L8.5 2.5l-.94 2.06-2.06.94zm10 10l.94 2.06.94-2.06 2.06-.94-2.06-.94-.94-2.06-.94 2.06-2.06.94z\"/><path d=\"M17.41 7.96l-1.37-1.37c-.4-.4-.92-.59-1.43-.59-.52 0-1.04.2-1.43.59L10.3 9.45l-7.72 7.72c-.78.78-.78 2.05 0 2.83L4 21.41c.39.39.9.59 1.41.59.51 0 1.02-.2 1.41-.59l7.78-7.78 2.81-2.81c.8-.78.8-2.07 0-2.86zM5.41 20L4 18.59l7.72-7.72 1.47 1.35L5.41 20z\"/>\n",
              "  </svg>\n",
              "      </button>\n",
              "      \n",
              "  <style>\n",
              "    .colab-df-container {\n",
              "      display:flex;\n",
              "      flex-wrap:wrap;\n",
              "      gap: 12px;\n",
              "    }\n",
              "\n",
              "    .colab-df-convert {\n",
              "      background-color: #E8F0FE;\n",
              "      border: none;\n",
              "      border-radius: 50%;\n",
              "      cursor: pointer;\n",
              "      display: none;\n",
              "      fill: #1967D2;\n",
              "      height: 32px;\n",
              "      padding: 0 0 0 0;\n",
              "      width: 32px;\n",
              "    }\n",
              "\n",
              "    .colab-df-convert:hover {\n",
              "      background-color: #E2EBFA;\n",
              "      box-shadow: 0px 1px 2px rgba(60, 64, 67, 0.3), 0px 1px 3px 1px rgba(60, 64, 67, 0.15);\n",
              "      fill: #174EA6;\n",
              "    }\n",
              "\n",
              "    [theme=dark] .colab-df-convert {\n",
              "      background-color: #3B4455;\n",
              "      fill: #D2E3FC;\n",
              "    }\n",
              "\n",
              "    [theme=dark] .colab-df-convert:hover {\n",
              "      background-color: #434B5C;\n",
              "      box-shadow: 0px 1px 3px 1px rgba(0, 0, 0, 0.15);\n",
              "      filter: drop-shadow(0px 1px 2px rgba(0, 0, 0, 0.3));\n",
              "      fill: #FFFFFF;\n",
              "    }\n",
              "  </style>\n",
              "\n",
              "      <script>\n",
              "        const buttonEl =\n",
              "          document.querySelector('#df-09554215-3a2a-4efa-b774-9c55f82ac735 button.colab-df-convert');\n",
              "        buttonEl.style.display =\n",
              "          google.colab.kernel.accessAllowed ? 'block' : 'none';\n",
              "\n",
              "        async function convertToInteractive(key) {\n",
              "          const element = document.querySelector('#df-09554215-3a2a-4efa-b774-9c55f82ac735');\n",
              "          const dataTable =\n",
              "            await google.colab.kernel.invokeFunction('convertToInteractive',\n",
              "                                                     [key], {});\n",
              "          if (!dataTable) return;\n",
              "\n",
              "          const docLinkHtml = 'Like what you see? Visit the ' +\n",
              "            '<a target=\"_blank\" href=https://colab.research.google.com/notebooks/data_table.ipynb>data table notebook</a>'\n",
              "            + ' to learn more about interactive tables.';\n",
              "          element.innerHTML = '';\n",
              "          dataTable['output_type'] = 'display_data';\n",
              "          await google.colab.output.renderOutput(dataTable, element);\n",
              "          const docLink = document.createElement('div');\n",
              "          docLink.innerHTML = docLinkHtml;\n",
              "          element.appendChild(docLink);\n",
              "        }\n",
              "      </script>\n",
              "    </div>\n",
              "  </div>\n",
              "  "
            ],
            "text/plain": [
              "                                                                                                                                    parent_url  \\\n",
              "301                  https://tripadvisor.in/Attraction_Review-g297628-d2587750-Reviews-Ulsoor_Lake-Bengaluru_Bangalore_District_Karnataka.html   \n",
              "906  https://tripadvisor.in/Attraction_Review-g659792-d1314871-Reviews-Bharati_Government_Park-Pondicherry_Union_Territory_of_Pondicherry.html   \n",
              "223           https://tripadvisor.in/Attraction_Review-g297608-d2501233-Reviews-Sabarmati_Riverfront-Ahmedabad_Ahmedabad_District_Gujarat.html   \n",
              "57                             https://tripadvisor.in/Attraction_Review-g1162345-d1601651-Reviews-Yercaud-Salem_Salem_District_Tamil_Nadu.html   \n",
              "\n",
              "                                                                                                                                                                                                                                                                                                                                                                                                       review_detail  \n",
              "301  nice ambience  and very well maintained  interior, one more suggestion is there some out  Side Area need to cleaned. Cool environment with good view.Read more\\n\\nIt's a lovely service n kind hearted ...The food n everything was sooo good..Srija she was suchhh a sweetheart üíóshes so good !!!love the way she was talking wit us.. Alhamdulillah...Thank youuu so much srijaaa...it was lovely talki...  \n",
              "906  A good clean park. good for walking and kids to play around. lot of trees. though we went in summer we felt goodRead more\\n\\nbest place to visit with children. lot of play options and activities are lined up for the kids here.Read more\\n\\nI walk here every time I visit Pondicherry but only this trip did I hear the story of how this park was formed. Very French!Read more\\n\\nA beautiful garden i...  \n",
              "223  earlier there was the slum at this place !! But Mr. Modi Chief Minister of State of that time did good and shifted all people to other houses and beautiful riverfront developed !Read more\\n\\nStaying at the Hyatt Regency, The Riverfront in the evenings was a wonderfully refreshing sight.If you are staying at one of the hotels astriding the Sabarmati, would reccommend at least one visit during t...  \n",
              "57   This is a must visit hill station in Tamil Nadu. Can spend 2 days easily, take cab for local tours. Lot of view points snd gardens to visit and ofcourse boating. This area produces great pepper and tea, coffee and massage oils and you can buy them everywhere.Read more\\n\\nYercaud is a nice Tourist place, except on 2 factors... Roads are very bad and Cleanliness is poor as most of the places are...  "
            ]
          },
          "execution_count": 72,
          "metadata": {},
          "output_type": "execute_result"
        }
      ],
      "source": [
        "print(top_4)\n",
        "df2.iloc[top_4,:]"
      ]
    },
    {
      "cell_type": "code",
      "execution_count": null,
      "metadata": {
        "id": "i4gd_qx8Agb_"
      },
      "outputs": [],
      "source": [
        ""
      ]
    },
    {
      "cell_type": "code",
      "execution_count": 13,
      "metadata": {
        "id": "Qi2xBAOABC0-"
      },
      "outputs": [],
      "source": [
        "pd.set_option('max_colwidth', 400)"
      ]
    },
    {
      "cell_type": "code",
      "execution_count": null,
      "metadata": {
        "id": "7RYQoiYIBDnP"
      },
      "outputs": [],
      "source": [
        ""
      ]
    },
    {
      "cell_type": "code",
      "execution_count": 36,
      "metadata": {
        "id": "fUkUWU8RD1Q4"
      },
      "outputs": [],
      "source": [
        "from keybert import KeyBERT\n",
        "from keyphrase_vectorizers import KeyphraseCountVectorizer\n",
        "import itertools \n",
        "# vectorizer = KeyphraseCountVectorizer( stop_words='english')\n",
        "vectorizer = KeyphraseCountVectorizer( stop_words='english',pos_pattern='<J.*>*<N.*>' )\n",
        "kw_model_use = KeyBERT(model=model)\n",
        "kw_model_default = KeyBERT()\n",
        "kw_model_ad = KeyBERT(model='paraphrase-mpnet-base-v2')"
      ]
    },
    {
      "cell_type": "code",
      "source": [
        "!python -m spacy download en_core_web_md\n",
        "import spacy\n",
        "import itertools\n",
        "from itertools import combinations\n",
        "\n",
        "\n",
        "# Set globals\n",
        "nlp = spacy.load(\"en_core_web_md\")\n",
        "\n",
        "def pre_process(titles):\n",
        "    \"\"\"\n",
        "    Pre-processes titles by removing stopwords and lemmatizing text.\n",
        "    :param titles: list of strings, contains target titles,.\n",
        "    :return: preprocessed_title_docs, list containing pre-processed titles.\n",
        "    \"\"\"\n",
        "\n",
        "    # Preprocess all the titles\n",
        "    title_docs = [nlp(x) for x in titles]\n",
        "    preprocessed_title_docs = []\n",
        "    lemmatized_tokens = []\n",
        "    for title_doc in title_docs:\n",
        "        for token in title_doc:\n",
        "            if not token.is_stop:\n",
        "                lemmatized_tokens.append(token.lemma_)\n",
        "        preprocessed_title_docs.append(\" \".join(lemmatized_tokens))\n",
        "        del lemmatized_tokens[\n",
        "            :\n",
        "            ]  # empty the lemmatized tokens list as the code moves onto a new title\n",
        "\n",
        "    return preprocessed_title_docs\n",
        "\n",
        "def similarity_filter(titles):\n",
        "    \"\"\"\n",
        "    Recursively check if titles pass a similarity filter.\n",
        "    :param titles: list of strings, contains titles.\n",
        "    If the function finds titles that fail the similarity test, the above param will be the function output.\n",
        "    :return: this method upon itself unless there are no similar titles; in that case the feed that was passed\n",
        "    in is returned.\n",
        "    \"\"\"\n",
        "\n",
        "    # Preprocess titles\n",
        "    preprocessed_title_docs = pre_process(titles)\n",
        "\n",
        "    # Remove similar titles\n",
        "    all_summary_pairs = list(combinations(preprocessed_title_docs, 2))\n",
        "    similar_titles = []\n",
        "    for pair in all_summary_pairs:\n",
        "        title1 = nlp(pair[0])\n",
        "        title2 = nlp(pair[1])\n",
        "        similarity = title1.similarity(title2)\n",
        "        if similarity > 0.8:\n",
        "            similar_titles.append(pair)\n",
        "\n",
        "    titles_to_remove = []\n",
        "    for a_title in similar_titles:\n",
        "        # Get the index of the first title in the pair\n",
        "        index_for_removal = preprocessed_title_docs.index(a_title[0])\n",
        "        titles_to_remove.append(index_for_removal)\n",
        "\n",
        "    # Get indices of similar titles and remove them\n",
        "    similar_title_counts = set(titles_to_remove)\n",
        "    similar_titles = [\n",
        "        x[1] for x in enumerate(titles) if x[0] in similar_title_counts\n",
        "    ]\n",
        "\n",
        "    # Exit the recursion if there are no longer any similar titles\n",
        "    if len(similar_title_counts) == 0:\n",
        "        return titles\n",
        "\n",
        "    # Continue the recursion if there are still titles to remove\n",
        "    else:\n",
        "        # Remove similar titles from the next input\n",
        "        for title in similar_titles:\n",
        "            idx = titles.index(title)\n",
        "            titles.pop(idx)\n",
        "            \n",
        "        return similarity_filter(titles)"
      ],
      "metadata": {
        "colab": {
          "base_uri": "https://localhost:8080/"
        },
        "id": "Vh1EcrU_jL8N",
        "outputId": "b39e0cd9-f6a4-4114-8462-c511f5b19941"
      },
      "execution_count": 37,
      "outputs": [
        {
          "output_type": "stream",
          "name": "stdout",
          "text": [
            "Looking in indexes: https://pypi.org/simple, https://us-python.pkg.dev/colab-wheels/public/simple/\n",
            "Collecting en-core-web-md==3.3.0\n",
            "  Downloading https://github.com/explosion/spacy-models/releases/download/en_core_web_md-3.3.0/en_core_web_md-3.3.0-py3-none-any.whl (33.5 MB)\n",
            "\u001b[K     |████████████████████████████████| 33.5 MB 201 kB/s \n",
            "\u001b[?25hRequirement already satisfied: spacy<3.4.0,>=3.3.0.dev0 in /usr/local/lib/python3.7/dist-packages (from en-core-web-md==3.3.0) (3.3.0)\n",
            "Requirement already satisfied: srsly<3.0.0,>=2.4.3 in /usr/local/lib/python3.7/dist-packages (from spacy<3.4.0,>=3.3.0.dev0->en-core-web-md==3.3.0) (2.4.3)\n",
            "Requirement already satisfied: jinja2 in /usr/local/lib/python3.7/dist-packages (from spacy<3.4.0,>=3.3.0.dev0->en-core-web-md==3.3.0) (2.11.3)\n",
            "Requirement already satisfied: pathy>=0.3.5 in /usr/local/lib/python3.7/dist-packages (from spacy<3.4.0,>=3.3.0.dev0->en-core-web-md==3.3.0) (0.6.1)\n",
            "Requirement already satisfied: packaging>=20.0 in /usr/local/lib/python3.7/dist-packages (from spacy<3.4.0,>=3.3.0.dev0->en-core-web-md==3.3.0) (21.3)\n",
            "Requirement already satisfied: spacy-legacy<3.1.0,>=3.0.9 in /usr/local/lib/python3.7/dist-packages (from spacy<3.4.0,>=3.3.0.dev0->en-core-web-md==3.3.0) (3.0.9)\n",
            "Requirement already satisfied: cymem<2.1.0,>=2.0.2 in /usr/local/lib/python3.7/dist-packages (from spacy<3.4.0,>=3.3.0.dev0->en-core-web-md==3.3.0) (2.0.6)\n",
            "Requirement already satisfied: wasabi<1.1.0,>=0.9.1 in /usr/local/lib/python3.7/dist-packages (from spacy<3.4.0,>=3.3.0.dev0->en-core-web-md==3.3.0) (0.9.1)\n",
            "Requirement already satisfied: typing-extensions<4.0.0.0,>=3.7.4 in /usr/local/lib/python3.7/dist-packages (from spacy<3.4.0,>=3.3.0.dev0->en-core-web-md==3.3.0) (3.10.0.2)\n",
            "Requirement already satisfied: murmurhash<1.1.0,>=0.28.0 in /usr/local/lib/python3.7/dist-packages (from spacy<3.4.0,>=3.3.0.dev0->en-core-web-md==3.3.0) (1.0.7)\n",
            "Requirement already satisfied: preshed<3.1.0,>=3.0.2 in /usr/local/lib/python3.7/dist-packages (from spacy<3.4.0,>=3.3.0.dev0->en-core-web-md==3.3.0) (3.0.6)\n",
            "Requirement already satisfied: thinc<8.1.0,>=8.0.14 in /usr/local/lib/python3.7/dist-packages (from spacy<3.4.0,>=3.3.0.dev0->en-core-web-md==3.3.0) (8.0.17)\n",
            "Requirement already satisfied: typer<0.5.0,>=0.3.0 in /usr/local/lib/python3.7/dist-packages (from spacy<3.4.0,>=3.3.0.dev0->en-core-web-md==3.3.0) (0.4.1)\n",
            "Requirement already satisfied: requests<3.0.0,>=2.13.0 in /usr/local/lib/python3.7/dist-packages (from spacy<3.4.0,>=3.3.0.dev0->en-core-web-md==3.3.0) (2.23.0)\n",
            "Requirement already satisfied: numpy>=1.15.0 in /usr/local/lib/python3.7/dist-packages (from spacy<3.4.0,>=3.3.0.dev0->en-core-web-md==3.3.0) (1.21.6)\n",
            "Requirement already satisfied: tqdm<5.0.0,>=4.38.0 in /usr/local/lib/python3.7/dist-packages (from spacy<3.4.0,>=3.3.0.dev0->en-core-web-md==3.3.0) (4.64.0)\n",
            "Requirement already satisfied: spacy-loggers<2.0.0,>=1.0.0 in /usr/local/lib/python3.7/dist-packages (from spacy<3.4.0,>=3.3.0.dev0->en-core-web-md==3.3.0) (1.0.2)\n",
            "Requirement already satisfied: pydantic!=1.8,!=1.8.1,<1.9.0,>=1.7.4 in /usr/local/lib/python3.7/dist-packages (from spacy<3.4.0,>=3.3.0.dev0->en-core-web-md==3.3.0) (1.8.2)\n",
            "Requirement already satisfied: catalogue<2.1.0,>=2.0.6 in /usr/local/lib/python3.7/dist-packages (from spacy<3.4.0,>=3.3.0.dev0->en-core-web-md==3.3.0) (2.0.7)\n",
            "Requirement already satisfied: blis<0.8.0,>=0.4.0 in /usr/local/lib/python3.7/dist-packages (from spacy<3.4.0,>=3.3.0.dev0->en-core-web-md==3.3.0) (0.4.1)\n",
            "Requirement already satisfied: setuptools in /usr/local/lib/python3.7/dist-packages (from spacy<3.4.0,>=3.3.0.dev0->en-core-web-md==3.3.0) (57.4.0)\n",
            "Requirement already satisfied: langcodes<4.0.0,>=3.2.0 in /usr/local/lib/python3.7/dist-packages (from spacy<3.4.0,>=3.3.0.dev0->en-core-web-md==3.3.0) (3.3.0)\n",
            "Requirement already satisfied: zipp>=0.5 in /usr/local/lib/python3.7/dist-packages (from catalogue<2.1.0,>=2.0.6->spacy<3.4.0,>=3.3.0.dev0->en-core-web-md==3.3.0) (3.8.0)\n",
            "Requirement already satisfied: pyparsing!=3.0.5,>=2.0.2 in /usr/local/lib/python3.7/dist-packages (from packaging>=20.0->spacy<3.4.0,>=3.3.0.dev0->en-core-web-md==3.3.0) (3.0.9)\n",
            "Requirement already satisfied: smart-open<6.0.0,>=5.0.0 in /usr/local/lib/python3.7/dist-packages (from pathy>=0.3.5->spacy<3.4.0,>=3.3.0.dev0->en-core-web-md==3.3.0) (5.2.1)\n",
            "Requirement already satisfied: urllib3!=1.25.0,!=1.25.1,<1.26,>=1.21.1 in /usr/local/lib/python3.7/dist-packages (from requests<3.0.0,>=2.13.0->spacy<3.4.0,>=3.3.0.dev0->en-core-web-md==3.3.0) (1.24.3)\n",
            "Requirement already satisfied: idna<3,>=2.5 in /usr/local/lib/python3.7/dist-packages (from requests<3.0.0,>=2.13.0->spacy<3.4.0,>=3.3.0.dev0->en-core-web-md==3.3.0) (2.10)\n",
            "Requirement already satisfied: certifi>=2017.4.17 in /usr/local/lib/python3.7/dist-packages (from requests<3.0.0,>=2.13.0->spacy<3.4.0,>=3.3.0.dev0->en-core-web-md==3.3.0) (2022.5.18.1)\n",
            "Requirement already satisfied: chardet<4,>=3.0.2 in /usr/local/lib/python3.7/dist-packages (from requests<3.0.0,>=2.13.0->spacy<3.4.0,>=3.3.0.dev0->en-core-web-md==3.3.0) (3.0.4)\n",
            "Requirement already satisfied: click<9.0.0,>=7.1.1 in /usr/local/lib/python3.7/dist-packages (from typer<0.5.0,>=0.3.0->spacy<3.4.0,>=3.3.0.dev0->en-core-web-md==3.3.0) (7.1.2)\n",
            "Requirement already satisfied: MarkupSafe>=0.23 in /usr/local/lib/python3.7/dist-packages (from jinja2->spacy<3.4.0,>=3.3.0.dev0->en-core-web-md==3.3.0) (2.0.1)\n",
            "\u001b[38;5;2m✔ Download and installation successful\u001b[0m\n",
            "You can now load the package via spacy.load('en_core_web_md')\n"
          ]
        }
      ]
    },
    {
      "cell_type": "code",
      "source": [
        "\n",
        "\n",
        "\n",
        "def get_keywords_for_reviews(reviews):\n",
        "  num_reviews = len(reviews) \n",
        "  final_tags_dict = {} \n",
        "  sorted_tags_dict = {}\n",
        "  for review_text in reviews:    \n",
        "    arr_use = kw_model_use.extract_keywords(review_text, vectorizer=vectorizer, use_mmr=True, top_n=5)    \n",
        "    if arr_use is not None:\n",
        "      for phrase, score in arr_use:\n",
        "\n",
        "        if final_tags_dict.get(phrase) is not None:\n",
        "          final_tags_dict[phrase] += 1\n",
        "        else:\n",
        "          if num_reviews < 10:\n",
        "            if score > 0.1:\n",
        "              final_tags_dict[phrase] = score\n",
        "          else:\n",
        "            if score > 0.2:\n",
        "              final_tags_dict[phrase] = score\n",
        "      sorted_tags_dict = {k: v for k, v in sorted(final_tags_dict.items(), key=lambda item: item[1],reverse = True)}\n",
        "  top_20 = dict(itertools.islice(sorted_tags_dict.items(), 20))\n",
        "  non_similar = similarity_filter(list(top_20.keys()))  \n",
        "  return non_similar\n",
        "\n",
        "for idx, parent_url in df2.iloc[612:,:]['parent_url'].iteritems():\n",
        "  keywords_string = ''\n",
        "  keywords_list = []\n",
        "  dfx = df[df['parent_url'] == parent_url]\n",
        "  review_list = dfx['review_detail'].tolist()\n",
        "  keywords_list = get_keywords_for_reviews(review_list)\n",
        "  keywords_string = ','.join(keywords_list) \n",
        "  with open('drive/MyDrive/ta/tags/tag_file.tsv', 'a') as the_file:\n",
        "    print(idx, keywords_string)\n",
        "    the_file.write(str(idx) + '\\t' + parent_url + '\\t' + keywords_string + '\\n')\n",
        "# dfx = df[df['parent_url'] == 'https://tripadvisor.in/Attraction_Review-g1162480-d14797656-Reviews-Karukathamman_Temple-Mahabalipuram_Kanchipuram_District_Tamil_Nadu.html'] \n",
        "# get_keywords_for_reviews(dfx['review_detail'])"
      ],
      "metadata": {
        "colab": {
          "base_uri": "https://localhost:8080/"
        },
        "id": "t8oQWuqad3kl",
        "outputId": "90433545-4164-430a-db97-61aab75f1bd2"
      },
      "execution_count": null,
      "outputs": [
        {
          "output_type": "stream",
          "name": "stdout",
          "text": [
            "612 ji,serene ambience,best hanuman,bhagwan,short duration,km,divine,corbett,positive energy,safari,older incarnations,ideal\n",
            "613 corbett,resort,picnic,nature,riverside,temple,jim,mahindra,clear water,fresh water,cold water,nice river,birds,clean water,national park,swimming,nice place,beautiful view\n"
          ]
        },
        {
          "output_type": "stream",
          "name": "stderr",
          "text": [
            "/usr/local/lib/python3.7/dist-packages/ipykernel_launcher.py:50: UserWarning: [W008] Evaluating Doc.similarity based on empty vectors.\n"
          ]
        },
        {
          "output_type": "stream",
          "name": "stdout",
          "text": [
            "614 corbett,safari,sita,jungle,monkeys,nothing,buffer,jim,nice place,visit,ancient temple,deer,mata,dense forest,jeep\n",
            "615 safari,elephants,national park,wild animals,park,gypsy,deers,jungle,rhino,guides,peacock,dense forest,reserve,tower\n"
          ]
        },
        {
          "output_type": "stream",
          "name": "stderr",
          "text": [
            "/usr/local/lib/python3.7/dist-packages/ipykernel_launcher.py:50: UserWarning: [W008] Evaluating Doc.similarity based on empty vectors.\n"
          ]
        },
        {
          "output_type": "stream",
          "name": "stdout",
          "text": [
            "616 foreign tourist,hindu,calm places,sculpture,architect,balaji,nice temple,peace,community,design,nothing\n",
            "617 lovely fruits,potatoes,apples,decent trek,aug,nice place,fruits,shimla,vegetables,day,unique e3xperience\n",
            "618 activities,village,family,welcome drink,culture,camel,nature,authentic north,traditional food,north karnataka,ride,food,traditional culture,good ambiance,beautiful place\n",
            "619 temple,spiritual books,revered saint,hungry ones,swami,free food,spiritual place,karnataka,best place,rich culture,preaching,devotion,local shivaite guru,famous place,donations,shri,swamy\n",
            "620 saturday,kms,lake,dharwad,famous hanuman,dosa,daily devotees,best temple,nice hanuman,spiritual vibrance,religious fervor,itinerary,local shops,ji,great view,great place,picnic\n",
            "621 activities,dharwad,indoor activities,adventures,populated world,hospitality,outdoor activities,fears,cycling,best theme,ultimate form,cylindrical zorb,friends,karnataka,many time\n",
            "622 peaceful place,lot\n",
            "623 shiva,unknown monument,active temple,lingam,ancient shiva,sculptures,directions,architecture,first visit,karnataka,lanes,lake\n",
            "624 park,walk,temple,swami,statue,big lake,snacks,best place,fresh air,taj,garden,india,nature,nice lake,cleanliness,weekends,peaceful time,twin cities\n",
            "625 big new temple,corrupt police,isckon temple,iskcon temples,radha,krishna,peaceful atmosphere,great build,simon,bribe,blessing,architecture,buses,good ambience,rice,main road,guidelines,holly\n",
            "626 glass,unique building,aquarium,indira,good chairs,rupees,homemade products,cleanliness,bus,small kids,sculptures,local people,peaceful read,old busstand,good picnic,good walkway\n",
            "627 statue,rani,city,old bus,main bus,erstwhile martyr,circle,busy intersection,queen,best market,junction,fresh vegetables,beautiful station,crowded road,landmark,flowers,towers,eureka\n",
            "628 hostel,worship,students,mutt,thousands,old bus,systematic lifestyle,spiritual learning,free boarding,center,contribution,campus,education,social activities,karnataka,internal peace,place,devotional activities,free food\n",
            "629 betta,picnic,birds,better meal,pollution,nature,park,unkempt bushes,garden,panoramic view,mrp,hilly terrain,hill,trees,healthy walk,lunch,items,visit,separate show,free atmosphere\n",
            "630 famous mall,best mall,icecream shops,theatre,many other good options,toilet,good shops,mart,area,new bus,pune,proper maintenance,movies,oasis\n",
            "631 rabbits,cage,good park,good pak,memorial,many games,buses,kids,greenery,maintenance,zone,weekends\n",
            "632 reservoir,heron,catchment area,visit,outing,monsoon,known place,big lake,eateries,hills,planning,dept,friends,greens,nature\n",
            "633 temple,orissa,village,gemstone,serene place,main attraction,vedic,shrine,goddess,sick blessing,desserts,lord,banks,eco,busy city,finest memories,travels,bhubaneswar\n",
            "634 famous temple,puja,hindus,bhubaneswar,good darshan,small nice temple,navratri,tourists,many locals,red colored small sweets,spiritual ambiance,odisha,good day,mata,prasad,ceremony\n",
            "635 netaji,bose,placelife events,best museum,heritage,memorial,real hero,bengal,storied museum,independence,private taxi,legends,artifacts,chandra,nice park,hospital,birthplace,wall\n",
            "636 stadium,old temple,mughal forces,holy temple,historical place,visitor,moat,palace,good selfie,cyclone,gate,nice place,maa,kalinga,municipality,court,delicious items,garden,greenery\n",
            "637 bridge,island,ancient shiva,shivling,beautiful temple,complete pillar,puja,shivas,mother,good experience,token fees\n",
            "638 cricket,international cricket,international matches,deccan,daily events,basic sports,old times,tower,lovely view,ac,india,venue,match,orissa,clean mandap,young star\n",
            "639 maa,goddess,chandi temple,mandir,old temples,deity,bombay,brotherhood,holy place,bus,railway,good hotel,devotee,gate,12th form\n",
            "640 famous masjid,best masjid,worship,devotees\n",
            "641 temple,shiva,ancient shiv,festival,prayers,bank,odisha,lord\n",
            "642 temple,banks,old ancient temple,amazing kalinga,architecture,vehicles,9th century,visit,small island,tri complex,good carvings\n"
          ]
        },
        {
          "output_type": "stream",
          "name": "stderr",
          "text": [
            "/usr/local/lib/python3.7/dist-packages/ipykernel_launcher.py:50: UserWarning: [W008] Evaluating Doc.similarity based on empty vectors.\n"
          ]
        },
        {
          "output_type": "stream",
          "name": "stdout",
          "text": [
            "643 paradeep,decent beach,clean beach,many crabs,andaman,wonderful experience,beaches,best views,aquarium,various sea,grand sea,combined feeling,port,busy city,quiet place\n",
            "644 ships,museum,maritime heritage,ancient odisha,mariners,artifacts,rich maritime prospects,new museum,visitors,small aquarium,rich culture,maritime museum,maritime history,banks,garden,boats,british time\n",
            "645 great temple,shiva,old architecture,serene environmentread,lord\n",
            "646 park,many deer,many wild animal,stadium,nearer,toddlers,nearby sites,sons,stall\n",
            "647 vishnu,ancient sculpture,idol,taxi,posture,architecture,rive banks,lord,river,stones,bhubaneswar,guides,horizontal position\n",
            "648 mall,tourists,many shops,cosmetics,many famous brands,options,rattan,novelty,pathankot\n",
            "649 trainers,gym,nice machines,training,modern machinery,fit,cheap prices,facilities,daily,nice atmosphere,parking,sanitation,results\n"
          ]
        },
        {
          "output_type": "stream",
          "name": "stderr",
          "text": [
            "/usr/local/lib/python3.7/dist-packages/ipykernel_launcher.py:50: UserWarning: [W008] Evaluating Doc.similarity based on empty vectors.\n"
          ]
        },
        {
          "output_type": "stream",
          "name": "stdout",
          "text": [
            "650 darshan,oldest temple,little difficult crowded place,mata,visit,deity,devine presence,full devotion,pathankot,devotional people,holy place,market,.governor,legend,shops\n",
            "651 mandir,tuesday,kali,sacred temple,old temple,devotees,ancient templeread,ka,path,governor,main entrance,distributor,cultural activities,dalhousie\n",
            "652 vishnu,laxmi,huge statue,good temple,mandir,family,grand father,main temple,good situated location,brass,goddess,gate,governor,good .my,continuous long life,amazing architecture,store,green surroundings\n",
            "653 shani,temple,famous temples,famous shani,cousin,famous worship,devotion,whole pathankot,himalayas,beautiful natural settings,followers,rush,awesome scenic beauty,aura,darshan,visit,saturday,nyc\n",
            "654 dam,sagar,bridge,beautiful boat,special permision,maharaja,visit,forest,excessive rains,picnic,wild rabbits,lovely green scenes,wire,magnificent landscape,humongous lake,joints\n",
            "655 singh,fort,ravi,durga,famous temple,great mughal emperor,many beautiful mosques,maharaja,raja,himalayas,temples,supremacy,mata,best place,tower\n",
            "656 shiva,himachal,parts,religious shiv,pooja,ancient temple,siva,linga,parvati,family,sacred stones,governor,blessings,religious place,kings,stones,distance,peaceful place\n"
          ]
        },
        {
          "output_type": "stream",
          "name": "stderr",
          "text": [
            "/usr/local/lib/python3.7/dist-packages/ipykernel_launcher.py:50: UserWarning: [W008] Evaluating Doc.similarity based on empty vectors.\n"
          ]
        },
        {
          "output_type": "stream",
          "name": "stdout",
          "text": [
            "657 caves,mahabharata,hindus,parvati,shiva,calm breeze,natural caves,stairs,ancient temple,historical place,pandavas,brothers,pandit,inner peace,refuge\n"
          ]
        },
        {
          "output_type": "stream",
          "name": "stderr",
          "text": [
            "/usr/local/lib/python3.7/dist-packages/ipykernel_launcher.py:50: UserWarning: [W008] Evaluating Doc.similarity based on empty vectors.\n"
          ]
        },
        {
          "output_type": "stream",
          "name": "stdout",
          "text": [
            "658 himachal,snake,km,bari nagni,beautiful temple,nagni,goddess,famous attractions,healing,local folklore,power,spiritual aspect,mata,thakur,particular area,full devotion\n",
            "659 civil engineering,engineers,direct interest,canal,researches,floods,dams,institution,center,commissioner,models\n",
            "660 elephants,safari,single elephants,poor visibility,deers,first few jeeps,trees,excellent wild animal,monsoons,early bird,forest,tiger,reserve,pathetic jeep,early morning,entry\n"
          ]
        }
      ]
    },
    {
      "cell_type": "code",
      "execution_count": null,
      "metadata": {
        "id": "BCEeN-soFIUH"
      },
      "outputs": [],
      "source": [
        "review_text = df2['review_detail'][1342]\n",
        "# arr = kw_model.extract_keywords(review_text, keyphrase_ngram_range=(1,2), stop_words='english', use_maxsum=True, nr_candidates=20, top_n=5)\n",
        "arr_use = kw_model_use.extract_keywords(review_text, keyphrase_ngram_range=(1,3), use_mmr=True, diversity=0.5, top_n=15)\n",
        "# arr_default = kw_model_default.extract_keywords(review_text, keyphrase_ngram_range=(1,3), use_mmr=True, diversity=0.5, top_n=15)\n",
        "[print(a) for a in arr_use]\n",
        "print(\"-\"*50)\n",
        "# print(review_text)"
      ]
    },
    {
      "cell_type": "code",
      "execution_count": null,
      "metadata": {
        "id": "gkGztTa_ETHI"
      },
      "outputs": [],
      "source": [
        "# df2['keywords'] = df2['review_detail'].apply(lambda z: kw_model.extract_keywords(z, keyphrase_ngram_range=(1, 2), stop_words=None)) \n",
        "arr_default = kw_model_flair.extract_keywords(review_text, keyphrase_ngram_range=(1,3), use_mmr=True, diversity=0.5, top_n=15)\n",
        "arr_default"
      ]
    },
    {
      "cell_type": "code",
      "execution_count": null,
      "metadata": {
        "id": "V1pn7_zdEzoo"
      },
      "outputs": [],
      "source": [
        "dfx = df[df['parent_url'] == 'https://tripadvisor.in/Attraction_Review-g1162480-d14797656-Reviews-Karukathamman_Temple-Mahabalipuram_Kanchipuram_District_Tamil_Nadu.html'] "
      ]
    },
    {
      "cell_type": "code",
      "execution_count": null,
      "metadata": {
        "id": "10sM9weMn-QJ"
      },
      "outputs": [],
      "source": [
        ""
      ]
    },
    {
      "cell_type": "code",
      "execution_count": null,
      "metadata": {
        "id": "7olyM4-Iq0ZG"
      },
      "outputs": [],
      "source": [
        "from keyphrase_vectorizers import KeyphraseCountVectorizer\n",
        "# vectorizer = KeyphraseCountVectorizer( stop_words='english')\n",
        "vectorizer = KeyphraseCountVectorizer( stop_words='english',pos_pattern='<J.*>*<N.*>' )\n",
        "\n"
      ]
    },
    {
      "cell_type": "code",
      "execution_count": null,
      "metadata": {
        "colab": {
          "base_uri": "https://localhost:8080/"
        },
        "id": "uAGqhepKnXSD",
        "outputId": "396480f4-c3a1-46d9-fef5-569c7fb114cf"
      },
      "outputs": [
        {
          "name": "stderr",
          "output_type": "stream",
          "text": [
            "2022-06-03 18:24:27,089 - KeyphraseVectorizer - INFO - It looks like you do not have downloaded a list of stopwords yet. It is attempted to download the stopwords now.\n",
            "INFO:KeyphraseVectorizer:It looks like you do not have downloaded a list of stopwords yet. It is attempted to download the stopwords now.\n",
            "/usr/local/lib/python3.7/dist-packages/spacy/util.py:845: UserWarning: [W094] Model 'en_core_web_sm' (2.2.5) specifies an under-constrained spaCy version requirement: >=2.2.2. This can lead to compatibility problems with older versions, or as new spaCy versions are released, because the model may say it's compatible when it's not. Consider changing the \"spacy_version\" in your meta.json to a version range, with a lower and upper pin. For example: >=3.3.0,<3.4.0\n",
            "  warnings.warn(warn_msg)\n",
            "2022-06-03 18:24:27,223 - KeyphraseVectorizer - INFO - It looks like the selected spaCy pipeline is not downloaded yet. It is attempted to download the spaCy pipeline now.\n",
            "2022-06-03 18:24:27,223 - KeyphraseVectorizer - INFO - It looks like the selected spaCy pipeline is not downloaded yet. It is attempted to download the spaCy pipeline now.\n",
            "INFO:KeyphraseVectorizer:It looks like the selected spaCy pipeline is not downloaded yet. It is attempted to download the spaCy pipeline now.\n"
          ]
        },
        {
          "name": "stdout",
          "output_type": "stream",
          "text": [
            "[nltk_data] Downloading package stopwords to /root/nltk_data...\n",
            "[nltk_data]   Unzipping corpora/stopwords.zip.\n",
            "\u001b[38;5;2m✔ Download and installation successful\u001b[0m\n",
            "You can now load the package via spacy.load('en_core_web_sm')\n",
            "[('goddess', 0.2926), ('barren womb', 0.2535), ('amman', 0.2512), ('safeguards', 0.1458), ('similar instances', 0.068)]\n",
            "[('temple', 0.4964), ('hindu', 0.3345), ('calm place', 0.1196), ('place', 0.1056)]\n",
            "[('temples', 0.254), ('local culture', 0.2302), ('mahabalipuram', 0.149), ('best time', 0.14), ('friday', 0.0941)]\n",
            "[('sculptures', 0.2798), ('temple', 0.2704), ('amman', 0.2439), ('blessings', 0.1726), ('lovable environment', 0.1182)]\n",
            "[('temple', 0.2378), ('religious traveler', 0.2284), ('sunset', 0.2252), ('mahabalipuram', 0.177), ('true believer', 0.1471)]\n"
          ]
        }
      ],
      "source": [
        "# vectorizer = CountVectorizer(ngram_range=(1, 3), stop_words=\"english\")\n",
        "for _, review_text in dfx['review_detail'].iteritems():\n",
        "  arr_use = kw_model_use.extract_keywords(review_text, vectorizer=vectorizer, use_mmr=True, top_n=5)\n",
        "  print(sorted(arr_use, key=lambda x: x[1], reverse=True))\n",
        "  # arr_use = kw_model_use.extract_keywords(review_text, keyphrase_ngram_range=(1,3), top_n=5)\n",
        "  # arr_use = kw_model_use.extract_keywords(review_text, vectorizer=vecrotizer, keyphrase_ngram_range=(1,2), stop_words='english', use_maxsum=True, nr_candidates=20, top_n=5)"
      ]
    },
    {
      "cell_type": "code",
      "execution_count": null,
      "metadata": {
        "colab": {
          "base_uri": "https://localhost:8080/",
          "height": 53
        },
        "id": "TSkLTABNmMG5",
        "outputId": "137ec69a-d6d8-4e1f-b17d-71f4ff5f4215"
      },
      "outputs": [
        {
          "data": {
            "application/vnd.google.colaboratory.intrinsic+json": {
              "type": "string"
            },
            "text/plain": [
              "'https://tripadvisor.in/Attraction_Review-g1162480-d14797656-Reviews-Karukathamman_Temple-Mahabalipuram_Kanchipuram_District_Tamil_Nadu.html'"
            ]
          },
          "execution_count": 22,
          "metadata": {},
          "output_type": "execute_result"
        }
      ],
      "source": [
        "review_text = df2['review_detail'][1224]\n",
        "df2['parent_url'][1224]"
      ]
    },
    {
      "cell_type": "code",
      "execution_count": null,
      "metadata": {
        "id": "e4sPwk_EaehI"
      },
      "outputs": [],
      "source": [
        "arr_use = kw_model_use.extract_keywords(review_text, vectorizer=vectorizer, use_mmr=True, top_n=40)\n",
        "# [print(a) for a in arr_use]\n",
        "sorted(arr_use, key=lambda x: x[1], reverse=True)"
      ]
    },
    {
      "cell_type": "code",
      "execution_count": null,
      "metadata": {
        "id": "P_qZk3SeIfnF"
      },
      "outputs": [],
      "source": [
        ""
      ]
    },
    {
      "cell_type": "code",
      "execution_count": null,
      "metadata": {
        "id": "CYn218mk8MFq"
      },
      "outputs": [],
      "source": [
        "from bertopic import BERTopic"
      ]
    },
    {
      "cell_type": "code",
      "execution_count": null,
      "metadata": {
        "id": "vU2YuMiK9eOY"
      },
      "outputs": [],
      "source": [
        "topic_model = BERTopic(embedding_model=model)\n",
        "topics, probs = topic_model.fit_transform(df['review_detail'].dropna().apply(lambda x : str(x)).tolist())"
      ]
    },
    {
      "cell_type": "code",
      "execution_count": null,
      "metadata": {
        "colab": {
          "base_uri": "https://localhost:8080/",
          "height": 169
        },
        "id": "7vn_FNEv8rVc",
        "outputId": "3ea33870-ea9e-4d2a-e293-a2c231decba6"
      },
      "outputs": [
        {
          "ename": "NameError",
          "evalue": "ignored",
          "output_type": "error",
          "traceback": [
            "\u001b[0;31m---------------------------------------------------------------------------\u001b[0m",
            "\u001b[0;31mNameError\u001b[0m                                 Traceback (most recent call last)",
            "\u001b[0;32m<ipython-input-1-fc69d99d94ea>\u001b[0m in \u001b[0;36m<module>\u001b[0;34m()\u001b[0m\n\u001b[0;32m----> 1\u001b[0;31m \u001b[0mtopic_model\u001b[0m\u001b[0;34m.\u001b[0m\u001b[0mget_topic_info\u001b[0m\u001b[0;34m(\u001b[0m\u001b[0;34m)\u001b[0m\u001b[0;34m\u001b[0m\u001b[0;34m\u001b[0m\u001b[0m\n\u001b[0m",
            "\u001b[0;31mNameError\u001b[0m: name 'topic_model' is not defined"
          ]
        }
      ],
      "source": [
        "topic_model.get_topic_info()"
      ]
    },
    {
      "cell_type": "code",
      "execution_count": null,
      "metadata": {
        "colab": {
          "base_uri": "https://localhost:8080/",
          "height": 169
        },
        "id": "W7mE4vyR8ujS",
        "outputId": "c7a0501e-9014-4f91-ddf3-34fd1d5e618d"
      },
      "outputs": [
        {
          "ename": "NameError",
          "evalue": "ignored",
          "output_type": "error",
          "traceback": [
            "\u001b[0;31m---------------------------------------------------------------------------\u001b[0m",
            "\u001b[0;31mNameError\u001b[0m                                 Traceback (most recent call last)",
            "\u001b[0;32m<ipython-input-1-91cc4b963168>\u001b[0m in \u001b[0;36m<module>\u001b[0;34m()\u001b[0m\n\u001b[0;32m----> 1\u001b[0;31m \u001b[0mtopic_model\u001b[0m\u001b[0;34m.\u001b[0m\u001b[0mvisualize_topics\u001b[0m\u001b[0;34m(\u001b[0m\u001b[0;34m)\u001b[0m\u001b[0;34m\u001b[0m\u001b[0;34m\u001b[0m\u001b[0m\n\u001b[0m",
            "\u001b[0;31mNameError\u001b[0m: name 'topic_model' is not defined"
          ]
        }
      ],
      "source": [
        "topic_model.visualize_topics()"
      ]
    },
    {
      "cell_type": "code",
      "execution_count": null,
      "metadata": {
        "id": "u1yXE8NfBL4P"
      },
      "outputs": [],
      "source": [
        "from sklearn.feature_extraction.text import CountVectorizer\n",
        "vectorizer_model = CountVectorizer(stop_words=\"english\", ngram_range=(2, 3))"
      ]
    },
    {
      "cell_type": "code",
      "execution_count": null,
      "metadata": {
        "id": "HT94pOmbAEN9"
      },
      "outputs": [],
      "source": [
        "topic_model.update_topics(df2['review_detail'].tolist(), topics, vectorizer_model=vectorizer_model)"
      ]
    },
    {
      "cell_type": "code",
      "execution_count": null,
      "metadata": {
        "colab": {
          "base_uri": "https://localhost:8080/",
          "height": 424
        },
        "id": "D04vmcfyA6SX",
        "outputId": "3bb7ba20-e61f-41c7-ba59-5e7d687225d4"
      },
      "outputs": [
        {
          "data": {
            "text/html": [
              "\n",
              "  <div id=\"df-a6313c19-0dc8-4db3-8756-29acdc0bec52\">\n",
              "    <div class=\"colab-df-container\">\n",
              "      <div>\n",
              "<style scoped>\n",
              "    .dataframe tbody tr th:only-of-type {\n",
              "        vertical-align: middle;\n",
              "    }\n",
              "\n",
              "    .dataframe tbody tr th {\n",
              "        vertical-align: top;\n",
              "    }\n",
              "\n",
              "    .dataframe thead th {\n",
              "        text-align: right;\n",
              "    }\n",
              "</style>\n",
              "<table border=\"1\" class=\"dataframe\">\n",
              "  <thead>\n",
              "    <tr style=\"text-align: right;\">\n",
              "      <th></th>\n",
              "      <th>Topic</th>\n",
              "      <th>Count</th>\n",
              "      <th>Name</th>\n",
              "    </tr>\n",
              "  </thead>\n",
              "  <tbody>\n",
              "    <tr>\n",
              "      <th>0</th>\n",
              "      <td>-1</td>\n",
              "      <td>4012</td>\n",
              "      <td>-1_temple_place_read_visit</td>\n",
              "    </tr>\n",
              "    <tr>\n",
              "      <th>1</th>\n",
              "      <td>0</td>\n",
              "      <td>736</td>\n",
              "      <td>0_shop_market_shopping_quality</td>\n",
              "    </tr>\n",
              "    <tr>\n",
              "      <th>2</th>\n",
              "      <td>1</td>\n",
              "      <td>477</td>\n",
              "      <td>1_garden_park_place_read</td>\n",
              "    </tr>\n",
              "    <tr>\n",
              "      <th>3</th>\n",
              "      <td>2</td>\n",
              "      <td>421</td>\n",
              "      <td>2_beach_sea_clean_beaches</td>\n",
              "    </tr>\n",
              "    <tr>\n",
              "      <th>4</th>\n",
              "      <td>3</td>\n",
              "      <td>409</td>\n",
              "      <td>3_falls_waterfall_water_fall</td>\n",
              "    </tr>\n",
              "    <tr>\n",
              "      <th>...</th>\n",
              "      <td>...</td>\n",
              "      <td>...</td>\n",
              "      <td>...</td>\n",
              "    </tr>\n",
              "    <tr>\n",
              "      <th>123</th>\n",
              "      <td>122</td>\n",
              "      <td>11</td>\n",
              "      <td>122_netaji_house_tagore_kalam</td>\n",
              "    </tr>\n",
              "    <tr>\n",
              "      <th>124</th>\n",
              "      <td>123</td>\n",
              "      <td>10</td>\n",
              "      <td>123_narasimha_badri_lord_temple</td>\n",
              "    </tr>\n",
              "    <tr>\n",
              "      <th>125</th>\n",
              "      <td>124</td>\n",
              "      <td>10</td>\n",
              "      <td>124_ghats_monsoon_malshej_ghat</td>\n",
              "    </tr>\n",
              "    <tr>\n",
              "      <th>126</th>\n",
              "      <td>125</td>\n",
              "      <td>10</td>\n",
              "      <td>125_house_wing_braganza_portuguese</td>\n",
              "    </tr>\n",
              "    <tr>\n",
              "      <th>127</th>\n",
              "      <td>126</td>\n",
              "      <td>10</td>\n",
              "      <td>126_peak_everest_kallu_view</td>\n",
              "    </tr>\n",
              "  </tbody>\n",
              "</table>\n",
              "<p>128 rows × 3 columns</p>\n",
              "</div>\n",
              "      <button class=\"colab-df-convert\" onclick=\"convertToInteractive('df-a6313c19-0dc8-4db3-8756-29acdc0bec52')\"\n",
              "              title=\"Convert this dataframe to an interactive table.\"\n",
              "              style=\"display:none;\">\n",
              "        \n",
              "  <svg xmlns=\"http://www.w3.org/2000/svg\" height=\"24px\"viewBox=\"0 0 24 24\"\n",
              "       width=\"24px\">\n",
              "    <path d=\"M0 0h24v24H0V0z\" fill=\"none\"/>\n",
              "    <path d=\"M18.56 5.44l.94 2.06.94-2.06 2.06-.94-2.06-.94-.94-2.06-.94 2.06-2.06.94zm-11 1L8.5 8.5l.94-2.06 2.06-.94-2.06-.94L8.5 2.5l-.94 2.06-2.06.94zm10 10l.94 2.06.94-2.06 2.06-.94-2.06-.94-.94-2.06-.94 2.06-2.06.94z\"/><path d=\"M17.41 7.96l-1.37-1.37c-.4-.4-.92-.59-1.43-.59-.52 0-1.04.2-1.43.59L10.3 9.45l-7.72 7.72c-.78.78-.78 2.05 0 2.83L4 21.41c.39.39.9.59 1.41.59.51 0 1.02-.2 1.41-.59l7.78-7.78 2.81-2.81c.8-.78.8-2.07 0-2.86zM5.41 20L4 18.59l7.72-7.72 1.47 1.35L5.41 20z\"/>\n",
              "  </svg>\n",
              "      </button>\n",
              "      \n",
              "  <style>\n",
              "    .colab-df-container {\n",
              "      display:flex;\n",
              "      flex-wrap:wrap;\n",
              "      gap: 12px;\n",
              "    }\n",
              "\n",
              "    .colab-df-convert {\n",
              "      background-color: #E8F0FE;\n",
              "      border: none;\n",
              "      border-radius: 50%;\n",
              "      cursor: pointer;\n",
              "      display: none;\n",
              "      fill: #1967D2;\n",
              "      height: 32px;\n",
              "      padding: 0 0 0 0;\n",
              "      width: 32px;\n",
              "    }\n",
              "\n",
              "    .colab-df-convert:hover {\n",
              "      background-color: #E2EBFA;\n",
              "      box-shadow: 0px 1px 2px rgba(60, 64, 67, 0.3), 0px 1px 3px 1px rgba(60, 64, 67, 0.15);\n",
              "      fill: #174EA6;\n",
              "    }\n",
              "\n",
              "    [theme=dark] .colab-df-convert {\n",
              "      background-color: #3B4455;\n",
              "      fill: #D2E3FC;\n",
              "    }\n",
              "\n",
              "    [theme=dark] .colab-df-convert:hover {\n",
              "      background-color: #434B5C;\n",
              "      box-shadow: 0px 1px 3px 1px rgba(0, 0, 0, 0.15);\n",
              "      filter: drop-shadow(0px 1px 2px rgba(0, 0, 0, 0.3));\n",
              "      fill: #FFFFFF;\n",
              "    }\n",
              "  </style>\n",
              "\n",
              "      <script>\n",
              "        const buttonEl =\n",
              "          document.querySelector('#df-a6313c19-0dc8-4db3-8756-29acdc0bec52 button.colab-df-convert');\n",
              "        buttonEl.style.display =\n",
              "          google.colab.kernel.accessAllowed ? 'block' : 'none';\n",
              "\n",
              "        async function convertToInteractive(key) {\n",
              "          const element = document.querySelector('#df-a6313c19-0dc8-4db3-8756-29acdc0bec52');\n",
              "          const dataTable =\n",
              "            await google.colab.kernel.invokeFunction('convertToInteractive',\n",
              "                                                     [key], {});\n",
              "          if (!dataTable) return;\n",
              "\n",
              "          const docLinkHtml = 'Like what you see? Visit the ' +\n",
              "            '<a target=\"_blank\" href=https://colab.research.google.com/notebooks/data_table.ipynb>data table notebook</a>'\n",
              "            + ' to learn more about interactive tables.';\n",
              "          element.innerHTML = '';\n",
              "          dataTable['output_type'] = 'display_data';\n",
              "          await google.colab.output.renderOutput(dataTable, element);\n",
              "          const docLink = document.createElement('div');\n",
              "          docLink.innerHTML = docLinkHtml;\n",
              "          element.appendChild(docLink);\n",
              "        }\n",
              "      </script>\n",
              "    </div>\n",
              "  </div>\n",
              "  "
            ],
            "text/plain": [
              "     Topic  Count                                Name\n",
              "0       -1   4012          -1_temple_place_read_visit\n",
              "1        0    736      0_shop_market_shopping_quality\n",
              "2        1    477            1_garden_park_place_read\n",
              "3        2    421           2_beach_sea_clean_beaches\n",
              "4        3    409        3_falls_waterfall_water_fall\n",
              "..     ...    ...                                 ...\n",
              "123    122     11       122_netaji_house_tagore_kalam\n",
              "124    123     10     123_narasimha_badri_lord_temple\n",
              "125    124     10      124_ghats_monsoon_malshej_ghat\n",
              "126    125     10  125_house_wing_braganza_portuguese\n",
              "127    126     10         126_peak_everest_kallu_view\n",
              "\n",
              "[128 rows x 3 columns]"
            ]
          },
          "execution_count": 20,
          "metadata": {},
          "output_type": "execute_result"
        }
      ],
      "source": [
        "topic_model.get_topic_info()"
      ]
    },
    {
      "cell_type": "code",
      "execution_count": null,
      "metadata": {
        "colab": {
          "base_uri": "https://localhost:8080/"
        },
        "id": "hwnuTkYFCqkt",
        "outputId": "9b5f5da7-6507-4ca9-c732-631e5991b0b5"
      },
      "outputs": [
        {
          "data": {
            "text/plain": [
              "[('ganga aarti', 0.011641912981971559),\n",
              " ('boat ride', 0.006652731152118561),\n",
              " ('har ki', 0.0061231052463358426),\n",
              " ('assi ghat', 0.005962147561697594),\n",
              " ('ki pauri', 0.005222331212511972),\n",
              " ('har ki pauri', 0.005011111337512798),\n",
              " ('river ganga', 0.004682525273351725),\n",
              " ('triveni sangam', 0.004322922530043107),\n",
              " ('evening aarti', 0.004200095242097189),\n",
              " ('ganga river', 0.003943364860755272)]"
            ]
          },
          "execution_count": 30,
          "metadata": {},
          "output_type": "execute_result"
        }
      ],
      "source": [
        "topic_model.get_topic(37)[-20:]"
      ]
    },
    {
      "cell_type": "code",
      "execution_count": null,
      "metadata": {
        "id": "GuNhljD_C0Ro"
      },
      "outputs": [],
      "source": [
        ""
      ]
    }
  ],
  "metadata": {
    "accelerator": "GPU",
    "colab": {
      "name": "use.ipynb",
      "provenance": [],
      "collapsed_sections": [],
      "mount_file_id": "1D1cJwvlM0SNCWDYXLg--s-3ZRlTEQ5Do",
      "authorship_tag": "ABX9TyM1rHGO2wSNnTQo0P0CUsfs",
      "include_colab_link": true
    },
    "kernelspec": {
      "display_name": "Python 3",
      "name": "python3"
    },
    "language_info": {
      "name": "python"
    }
  },
  "nbformat": 4,
  "nbformat_minor": 0
}